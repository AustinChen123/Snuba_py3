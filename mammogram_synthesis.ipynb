{
 "cells": [
  {
   "cell_type": "code",
   "execution_count": 24,
   "metadata": {},
   "outputs": [
    {
     "name": "stdout",
     "output_type": "stream",
     "text": [
      "The autoreload extension is already loaded. To reload it, use:\n",
      "  %reload_ext autoreload\n"
     ]
    }
   ],
   "source": [
    "%load_ext autoreload\n",
    "%autoreload 2\n",
    "\n",
    "import numpy as np\n",
    "import matplotlib.pyplot as plt\n",
    "%matplotlib inline\n",
    "\n",
    "np.random.seed(1234)"
   ]
  },
  {
   "cell_type": "markdown",
   "metadata": {},
   "source": [
    "## Load Dataset"
   ]
  },
  {
   "cell_type": "code",
   "execution_count": 25,
   "metadata": {},
   "outputs": [],
   "source": [
    "dataset='mammogram'\n",
    "\n",
    "from loader import DataLoader\n",
    "dl = DataLoader()\n",
    "train_primitive_matrix, val_primitive_matrix, _, train_ground, val_ground, _ = dl.load_data(dataset=dataset)"
   ]
  },
  {
   "cell_type": "markdown",
   "metadata": {},
   "source": [
    "## Simple Synthesis\n",
    "Generate functions of cardinality 1/2/3, plot results of top 3-20"
   ]
  },
  {
   "cell_type": "code",
   "execution_count": 26,
   "metadata": {},
   "outputs": [],
   "source": [
    "from heuristic_generator import HeuristicGenerator"
   ]
  },
  {
   "cell_type": "raw",
   "metadata": {},
   "source": [
    "used cutoff values of 0.15 for the plots on the google doc. needs to be a hyperparameter too..."
   ]
  },
  {
   "cell_type": "code",
   "execution_count": 27,
   "metadata": {},
   "outputs": [
    {
     "name": "stdout",
     "output_type": "stream",
     "text": [
      "Inferred cardinality: 2\n",
      "Inferred cardinality: 2\n",
      "Inferred cardinality: 2\n",
      "Inferred cardinality: 2\n",
      "Inferred cardinality: 2\n",
      "Inferred cardinality: 2\n",
      "Inferred cardinality: 2\n",
      "Inferred cardinality: 2\n",
      "Inferred cardinality: 2\n",
      "Inferred cardinality: 2\n",
      "Inferred cardinality: 2\n",
      "Inferred cardinality: 2\n",
      "Inferred cardinality: 2\n",
      "Inferred cardinality: 2\n",
      "Inferred cardinality: 2\n"
     ]
    }
   ],
   "source": [
    "validation_accuracy = []\n",
    "training_accuracy = []\n",
    "validation_coverage = []\n",
    "training_coverage = []\n",
    "\n",
    "for i in range(3,18):\n",
    "    hg = HeuristicGenerator(train_primitive_matrix, val_primitive_matrix, \n",
    "                            val_ground, train_ground, \n",
    "                            b=0.5, hf_cutoff=0.12, fb_thresh=0.35)\n",
    "        \n",
    "    hg.run_synthesizer(cardinality=2, keep=i)\n",
    "    hg.run_verifier()\n",
    "    \n",
    "    va,ta, vc, tc = hg.evaluate()\n",
    "    validation_accuracy.append(va)\n",
    "    training_accuracy.append(ta)\n",
    "    validation_coverage.append(vc)\n",
    "    training_coverage.append(tc)"
   ]
  },
  {
   "cell_type": "code",
   "execution_count": 15,
   "metadata": {},
   "outputs": [
    {
     "data": {
      "text/plain": [
       "<matplotlib.text.Text at 0x7f0df9a59210>"
      ]
     },
     "execution_count": 15,
     "metadata": {},
     "output_type": "execute_result"
    },
    {
     "data": {
      "image/png": "[encoded data removed]",
      "text/plain": [
       "<matplotlib.figure.Figure at 0x7f0e53f67e90>"
      ]
     },
     "metadata": {},
     "output_type": "display_data"
    }
   ],
   "source": [
    "plt.plot(range(3,18),validation_accuracy, color='C0')\n",
    "plt.plot(range(3,18),training_accuracy, color='C1')\n",
    "plt.plot(range(3,18),validation_coverage, color='C0', linestyle='--')\n",
    "plt.plot(range(3,18),training_coverage, color='C1', linestyle='--')\n",
    "plt.legend(['Validation Set', 'Training Set'])\n",
    "plt.xlabel('Number of Heuristics')\n",
    "plt.ylabel('Accuracy and Coverage')\n",
    "plt.title('Mammogram - Cardinality 2')\n",
    "\n",
    "#plt.ylim([0.55,0.9])"
   ]
  },
  {
   "cell_type": "markdown",
   "metadata": {},
   "source": [
    "## Synthesis + Verification\n",
    "Generate functions based on feedback from the verifier (vary cardinality)"
   ]
  },
  {
   "cell_type": "code",
   "execution_count": 45,
   "metadata": {},
   "outputs": [
    {
     "name": "stdout",
     "output_type": "stream",
     "text": [
      "Inferred cardinality: 2\n",
      "In fb  (1488, 3)\n",
      "Inferred cardinality: 2\n",
      "In fb  (1488, 4)\n",
      "Inferred cardinality: 2\n",
      "In fb  (1488, 5)\n",
      "Inferred cardinality: 2\n",
      "In fb  (1488, 6)\n",
      "Inferred cardinality: 2\n",
      "In fb  (1488, 7)\n",
      "Inferred cardinality: 2\n",
      "In fb  (1488, 8)\n",
      "Inferred cardinality: 2\n",
      "In fb  (1488, 9)\n",
      "Inferred cardinality: 2\n",
      "In fb  (1488, 10)\n",
      "Inferred cardinality: 2\n",
      "In fb  (1488, 11)\n",
      "Inferred cardinality: 2\n",
      "In fb  (1488, 12)\n",
      "Inferred cardinality: 2\n",
      "In fb  (1488, 13)\n",
      "Inferred cardinality: 2\n",
      "In fb  (1488, 14)\n",
      "Inferred cardinality: 2\n",
      "In fb  (1488, 15)\n",
      "Inferred cardinality: 2\n",
      "In fb  (1488, 16)\n",
      "Inferred cardinality: 2\n",
      "In fb  (1488, 17)\n"
     ]
    }
   ],
   "source": [
    "validation_accuracy = []\n",
    "training_accuracy = []\n",
    "validation_coverage = []\n",
    "training_coverage = []\n",
    "idx = None\n",
    "\n",
    "hg = HeuristicGenerator(train_primitive_matrix, val_primitive_matrix, \n",
    "                            val_ground, train_ground, \n",
    "                            b=0.5, hf_cutoff=0.12, fb_thresh=0.35)\n",
    "for i in range(3,18):\n",
    "    if i == 3:\n",
    "        hg.run_synthesizer(cardinality=3, idx=idx, keep=3)\n",
    "    else:\n",
    "        hg.run_synthesizer(cardinality=3, idx=idx, keep=1)\n",
    "    hg.run_verifier()\n",
    "    \n",
    "    va,ta, vc, tc = hg.evaluate()\n",
    "    validation_accuracy.append(va)\n",
    "    training_accuracy.append(ta)\n",
    "    validation_coverage.append(vc)\n",
    "    training_coverage.append(tc)\n",
    "    \n",
    "    hg.find_feedback(thresh=0.35)\n",
    "    idx = hg.feedback_idx\n",
    "    \n",
    "    #print idx"
   ]
  },
  {
   "cell_type": "code",
   "execution_count": 46,
   "metadata": {},
   "outputs": [
    {
     "data": {
      "text/plain": [
       "(0.55, 0.9)"
      ]
     },
     "execution_count": 46,
     "metadata": {},
     "output_type": "execute_result"
    },
    {
     "data": {
      "image/png": "[encoded data removed]",
      "text/plain": [
       "<matplotlib.figure.Figure at 0x7f0df1ccbd50>"
      ]
     },
     "metadata": {},
     "output_type": "display_data"
    }
   ],
   "source": [
    "plt.plot(range(3,18),validation_accuracy, color='C0')\n",
    "plt.plot(range(3,18),training_accuracy, color='C1')\n",
    "plt.plot(range(3,18),validation_coverage, color='C0', linestyle='--')\n",
    "plt.plot(range(3,18),training_coverage, color='C1', linestyle='--')\n",
    "plt.legend(['Validation Set', 'Training Set'])\n",
    "plt.xlabel('Number of Heuristics')\n",
    "plt.ylabel('Accuracy and Coverage')\n",
    "plt.title('Mammogram - Cardinality 3')\n",
    "\n",
    "plt.ylim([0.55,0.9])"
   ]
  },
  {
   "cell_type": "code",
   "execution_count": null,
   "metadata": {},
   "outputs": [],
   "source": []
  }
 ],
 "metadata": {
  "kernelspec": {
   "display_name": "Python 2",
   "language": "python",
   "name": "python2"
  },
  "language_info": {
   "codemirror_mode": {
    "name": "ipython",
    "version": 2
   },
   "file_extension": ".py",
   "mimetype": "text/x-python",
   "name": "python",
   "nbconvert_exporter": "python",
   "pygments_lexer": "ipython2",
   "version": "2.7.13"
  }
 },
 "nbformat": 4,
 "nbformat_minor": 2
}
