{
 "cells": [
  {
   "cell_type": "code",
   "execution_count": 1,
   "metadata": {},
   "outputs": [
    {
     "name": "stdout",
     "output_type": "stream",
     "text": [
      "The autoreload extension is already loaded. To reload it, use:\n",
      "  %reload_ext autoreload\n"
     ]
    }
   ],
   "source": [
    "%load_ext autoreload\n",
    "%autoreload 2\n",
    "\n",
    "import numpy as np\n",
    "import matplotlib.pyplot as plt\n",
    "%matplotlib inline"
   ]
  },
  {
   "cell_type": "markdown",
   "metadata": {},
   "source": [
    "## Load Dataset"
   ]
  },
  {
   "cell_type": "code",
   "execution_count": 2,
   "metadata": {},
   "outputs": [],
   "source": [
    "dataset='bone_tumor'\n",
    "\n",
    "from loader import DataLoader\n",
    "dl = DataLoader()\n",
    "primitive_matrix, ground = dl.load_data(dataset=dataset)"
   ]
  },
  {
   "cell_type": "code",
   "execution_count": 3,
   "metadata": {},
   "outputs": [],
   "source": [
    "#TODO formalize\n",
    "train_primitive_matrix = primitive_matrix[0:400,:]\n",
    "train_ground = ground[0:400]\n",
    "\n",
    "val_primitive_matrix = primitive_matrix[400:600,:]\n",
    "val_ground = ground[400:600]"
   ]
  },
  {
   "cell_type": "markdown",
   "metadata": {},
   "source": [
    "## Synthesize Heuristics"
   ]
  },
  {
   "cell_type": "code",
   "execution_count": 4,
   "metadata": {},
   "outputs": [],
   "source": [
    "from synthesizer import Synthesizer\n",
    "syn = Synthesizer(val_primitive_matrix, val_ground)"
   ]
  },
  {
   "cell_type": "code",
   "execution_count": 5,
   "metadata": {},
   "outputs": [],
   "source": [
    "hf, feat_combos = syn.generate_heuristics()\n",
    "X_train = train_primitive_matrix[:,feat_combos]\n",
    "L_train = syn.apply_heuristics(hf,X_train)\n",
    "\n",
    "X_val = val_primitive_matrix[:,feat_combos]\n",
    "L_val = syn.apply_heuristics(hf,X_val)"
   ]
  },
  {
   "cell_type": "markdown",
   "metadata": {},
   "source": [
    "### Heuristic Statistics"
   ]
  },
  {
   "cell_type": "code",
   "execution_count": 6,
   "metadata": {},
   "outputs": [
    {
     "data": {
      "text/plain": [
       "array([ 0.535,  0.545,  0.55 ,  0.545,  0.545,  0.505,  0.675,  0.705,\n",
       "        0.64 ,  0.685,  0.585,  0.655,  0.74 ,  0.625,  0.635,  0.62 ,\n",
       "        0.55 ])"
      ]
     },
     "execution_count": 6,
     "metadata": {},
     "output_type": "execute_result"
    }
   ],
   "source": [
    "#TODO call the function, print TP/FP/F1/P/R etc in pandas format\n",
    "np.mean(L_val.T == val_ground, axis=1)"
   ]
  },
  {
   "cell_type": "markdown",
   "metadata": {},
   "source": [
    "## Verify Heuristics"
   ]
  },
  {
   "cell_type": "code",
   "execution_count": 52,
   "metadata": {},
   "outputs": [],
   "source": [
    "from verifier import Verifier\n",
    "vf = Verifier(L_train, L_val, val_ground)"
   ]
  },
  {
   "cell_type": "code",
   "execution_count": 53,
   "metadata": {},
   "outputs": [
    {
     "name": "stdout",
     "output_type": "stream",
     "text": [
      "Inferred cardinality: 2\n"
     ]
    },
    {
     "data": {
      "text/html": [
       "<div>\n",
       "<style>\n",
       "    .dataframe thead tr:only-child th {\n",
       "        text-align: right;\n",
       "    }\n",
       "\n",
       "    .dataframe thead th {\n",
       "        text-align: left;\n",
       "    }\n",
       "\n",
       "    .dataframe tbody tr th {\n",
       "        vertical-align: top;\n",
       "    }\n",
       "</style>\n",
       "<table border=\"1\" class=\"dataframe\">\n",
       "  <thead>\n",
       "    <tr style=\"text-align: right;\">\n",
       "      <th></th>\n",
       "      <th>Accuracy</th>\n",
       "      <th>Coverage</th>\n",
       "      <th>Precision</th>\n",
       "      <th>Recall</th>\n",
       "    </tr>\n",
       "  </thead>\n",
       "  <tbody>\n",
       "    <tr>\n",
       "      <th>0</th>\n",
       "      <td>0.891871</td>\n",
       "      <td>0.7602</td>\n",
       "      <td>0.934155</td>\n",
       "      <td>0.678503</td>\n",
       "    </tr>\n",
       "    <tr>\n",
       "      <th>1</th>\n",
       "      <td>0.901966</td>\n",
       "      <td>0.7732</td>\n",
       "      <td>0.939355</td>\n",
       "      <td>0.693698</td>\n",
       "    </tr>\n",
       "    <tr>\n",
       "      <th>2</th>\n",
       "      <td>0.902394</td>\n",
       "      <td>0.7602</td>\n",
       "      <td>0.946440</td>\n",
       "      <td>0.686820</td>\n",
       "    </tr>\n",
       "    <tr>\n",
       "      <th>3</th>\n",
       "      <td>0.901465</td>\n",
       "      <td>0.7713</td>\n",
       "      <td>0.943603</td>\n",
       "      <td>0.687780</td>\n",
       "    </tr>\n",
       "    <tr>\n",
       "      <th>4</th>\n",
       "      <td>0.860016</td>\n",
       "      <td>0.7508</td>\n",
       "      <td>0.909662</td>\n",
       "      <td>0.649072</td>\n",
       "    </tr>\n",
       "    <tr>\n",
       "      <th>5</th>\n",
       "      <td>0.847133</td>\n",
       "      <td>0.7307</td>\n",
       "      <td>0.899513</td>\n",
       "      <td>0.619962</td>\n",
       "    </tr>\n",
       "    <tr>\n",
       "      <th>6</th>\n",
       "      <td>0.875975</td>\n",
       "      <td>0.7434</td>\n",
       "      <td>0.921976</td>\n",
       "      <td>0.659629</td>\n",
       "    </tr>\n",
       "    <tr>\n",
       "      <th>7</th>\n",
       "      <td>0.819359</td>\n",
       "      <td>0.7180</td>\n",
       "      <td>0.882521</td>\n",
       "      <td>0.591171</td>\n",
       "    </tr>\n",
       "    <tr>\n",
       "      <th>8</th>\n",
       "      <td>0.876614</td>\n",
       "      <td>0.7513</td>\n",
       "      <td>0.922387</td>\n",
       "      <td>0.657710</td>\n",
       "    </tr>\n",
       "    <tr>\n",
       "      <th>9</th>\n",
       "      <td>0.883349</td>\n",
       "      <td>0.7561</td>\n",
       "      <td>0.927527</td>\n",
       "      <td>0.669386</td>\n",
       "    </tr>\n",
       "    <tr>\n",
       "      <th>10</th>\n",
       "      <td>0.871037</td>\n",
       "      <td>0.7506</td>\n",
       "      <td>0.915468</td>\n",
       "      <td>0.651312</td>\n",
       "    </tr>\n",
       "    <tr>\n",
       "      <th>11</th>\n",
       "      <td>0.862190</td>\n",
       "      <td>0.7416</td>\n",
       "      <td>0.909747</td>\n",
       "      <td>0.644914</td>\n",
       "    </tr>\n",
       "    <tr>\n",
       "      <th>12</th>\n",
       "      <td>0.832399</td>\n",
       "      <td>0.7136</td>\n",
       "      <td>0.891378</td>\n",
       "      <td>0.591971</td>\n",
       "    </tr>\n",
       "    <tr>\n",
       "      <th>13</th>\n",
       "      <td>0.828170</td>\n",
       "      <td>0.7263</td>\n",
       "      <td>0.882654</td>\n",
       "      <td>0.606366</td>\n",
       "    </tr>\n",
       "    <tr>\n",
       "      <th>14</th>\n",
       "      <td>0.841105</td>\n",
       "      <td>0.7206</td>\n",
       "      <td>0.899832</td>\n",
       "      <td>0.600608</td>\n",
       "    </tr>\n",
       "    <tr>\n",
       "      <th>15</th>\n",
       "      <td>0.880471</td>\n",
       "      <td>0.7563</td>\n",
       "      <td>0.921465</td>\n",
       "      <td>0.668106</td>\n",
       "    </tr>\n",
       "    <tr>\n",
       "      <th>16</th>\n",
       "      <td>0.892378</td>\n",
       "      <td>0.7610</td>\n",
       "      <td>0.929691</td>\n",
       "      <td>0.683141</td>\n",
       "    </tr>\n",
       "  </tbody>\n",
       "</table>\n",
       "</div>"
      ],
      "text/plain": [
       "    Accuracy  Coverage  Precision    Recall\n",
       "0   0.891871    0.7602   0.934155  0.678503\n",
       "1   0.901966    0.7732   0.939355  0.693698\n",
       "2   0.902394    0.7602   0.946440  0.686820\n",
       "3   0.901465    0.7713   0.943603  0.687780\n",
       "4   0.860016    0.7508   0.909662  0.649072\n",
       "5   0.847133    0.7307   0.899513  0.619962\n",
       "6   0.875975    0.7434   0.921976  0.659629\n",
       "7   0.819359    0.7180   0.882521  0.591171\n",
       "8   0.876614    0.7513   0.922387  0.657710\n",
       "9   0.883349    0.7561   0.927527  0.669386\n",
       "10  0.871037    0.7506   0.915468  0.651312\n",
       "11  0.862190    0.7416   0.909747  0.644914\n",
       "12  0.832399    0.7136   0.891378  0.591971\n",
       "13  0.828170    0.7263   0.882654  0.606366\n",
       "14  0.841105    0.7206   0.899832  0.600608\n",
       "15  0.880471    0.7563   0.921465  0.668106\n",
       "16  0.892378    0.7610   0.929691  0.683141"
      ]
     },
     "execution_count": 53,
     "metadata": {},
     "output_type": "execute_result"
    }
   ],
   "source": [
    "vf.train_gen_model()\n",
    "vf.gen_model.learned_lf_stats()"
   ]
  },
  {
   "cell_type": "code",
   "execution_count": 57,
   "metadata": {},
   "outputs": [
    {
     "data": {
      "image/png": "[encoded data removed]",
      "text/plain": [
       "<matplotlib.figure.Figure at 0x7fc42b2b54d0>"
      ]
     },
     "metadata": {},
     "output_type": "display_data"
    }
   ],
   "source": [
    "vf.assign_marginals()\n",
    "plt.hist(vf.train_marginals, bins=20)\n",
    "plt.show()"
   ]
  },
  {
   "cell_type": "code",
   "execution_count": 64,
   "metadata": {
    "scrolled": true
   },
   "outputs": [
    {
     "data": {
      "text/plain": [
       "0.61"
      ]
     },
     "execution_count": 64,
     "metadata": {},
     "output_type": "execute_result"
    }
   ],
   "source": [
    "vague_idx = vf.find_vague_points(b=0.6, thresh=0.15)\n",
    "incorrect_idx = vf.find_incorrect_points(b=0.6)\n",
    "#TODO call the function, print TP/FP/F1/P/R etc in pandas format\n",
    "1-np.shape(incorrect_idx)[1]/float(np.shape(val_ground)[0])"
   ]
  },
  {
   "cell_type": "code",
   "execution_count": null,
   "metadata": {},
   "outputs": [],
   "source": []
  }
 ],
 "metadata": {
  "kernelspec": {
   "display_name": "Python 2",
   "language": "python",
   "name": "python2"
  },
  "language_info": {
   "codemirror_mode": {
    "name": "ipython",
    "version": 2
   },
   "file_extension": ".py",
   "mimetype": "text/x-python",
   "name": "python",
   "nbconvert_exporter": "python",
   "pygments_lexer": "ipython2",
   "version": "2.7.13"
  }
 },
 "nbformat": 4,
 "nbformat_minor": 2
}
