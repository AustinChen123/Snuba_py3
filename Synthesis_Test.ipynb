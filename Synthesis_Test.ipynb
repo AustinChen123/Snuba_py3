{
 "cells": [
  {
   "cell_type": "code",
   "execution_count": 1,
   "metadata": {},
   "outputs": [
    {
     "name": "stdout",
     "output_type": "stream",
     "text": [
      "The autoreload extension is already loaded. To reload it, use:\n",
      "  %reload_ext autoreload\n"
     ]
    }
   ],
   "source": [
    "%load_ext autoreload\n",
    "%autoreload 2\n",
    "\n",
    "import numpy as np\n",
    "import matplotlib.pyplot as plt\n",
    "%matplotlib inline"
   ]
  },
  {
   "cell_type": "markdown",
   "metadata": {},
   "source": [
    "## Load Dataset"
   ]
  },
  {
   "cell_type": "code",
   "execution_count": 2,
   "metadata": {},
   "outputs": [],
   "source": [
    "dataset='bone_tumor'\n",
    "\n",
    "from loader import DataLoader\n",
    "dl = DataLoader()\n",
    "primitive_matrix, ground = dl.load_data(dataset=dataset)"
   ]
  },
  {
   "cell_type": "code",
   "execution_count": 3,
   "metadata": {},
   "outputs": [],
   "source": [
    "#TODO formalize\n",
    "train_primitive_matrix = primitive_matrix[0:400,:]\n",
    "train_ground = ground[0:400]\n",
    "\n",
    "val_primitive_matrix = primitive_matrix[400:600,:]\n",
    "val_ground = ground[400:600]"
   ]
  },
  {
   "cell_type": "markdown",
   "metadata": {},
   "source": [
    "## Synthesize Heuristics"
   ]
  },
  {
   "cell_type": "code",
   "execution_count": 4,
   "metadata": {},
   "outputs": [],
   "source": [
    "from program_synthesis.synthesizer import Synthesizer\n",
    "syn = Synthesizer(val_primitive_matrix, val_ground)"
   ]
  },
  {
   "cell_type": "code",
   "execution_count": 5,
   "metadata": {},
   "outputs": [],
   "source": [
    "hf, feat_combos = syn.generate_heuristics(cardinality=3)\n",
    "\n",
    "#optional pruning\n",
    "sort_idx = syn.prune_heuristics(hf,feat_combos, keep=5)\n",
    "hf = [hf[i] for i in sort_idx]\n",
    "feat_combos = [feat_combos[i] for i in sort_idx]"
   ]
  },
  {
   "cell_type": "code",
   "execution_count": 6,
   "metadata": {},
   "outputs": [],
   "source": [
    "X_train = train_primitive_matrix[:,feat_combos]\n",
    "L_train = syn.apply_heuristics(hf,X_train)\n",
    "\n",
    "X_val = val_primitive_matrix[:,feat_combos]\n",
    "L_val = syn.apply_heuristics(hf,X_val)"
   ]
  },
  {
   "cell_type": "markdown",
   "metadata": {},
   "source": [
    "## Verify Heuristics"
   ]
  },
  {
   "cell_type": "code",
   "execution_count": 7,
   "metadata": {},
   "outputs": [],
   "source": [
    "from program_synthesis.verifier import Verifier\n",
    "vf = Verifier(L_train, L_val, val_ground)"
   ]
  },
  {
   "cell_type": "code",
   "execution_count": 8,
   "metadata": {},
   "outputs": [
    {
     "name": "stdout",
     "output_type": "stream",
     "text": [
      "Inferred cardinality: 2\n"
     ]
    },
    {
     "data": {
      "text/html": [
       "<div>\n",
       "<style>\n",
       "    .dataframe thead tr:only-child th {\n",
       "        text-align: right;\n",
       "    }\n",
       "\n",
       "    .dataframe thead th {\n",
       "        text-align: left;\n",
       "    }\n",
       "\n",
       "    .dataframe tbody tr th {\n",
       "        vertical-align: top;\n",
       "    }\n",
       "</style>\n",
       "<table border=\"1\" class=\"dataframe\">\n",
       "  <thead>\n",
       "    <tr style=\"text-align: right;\">\n",
       "      <th></th>\n",
       "      <th>Accuracy</th>\n",
       "      <th>Coverage</th>\n",
       "      <th>Precision</th>\n",
       "      <th>Recall</th>\n",
       "    </tr>\n",
       "  </thead>\n",
       "  <tbody>\n",
       "    <tr>\n",
       "      <th>0</th>\n",
       "      <td>0.911840</td>\n",
       "      <td>0.7838</td>\n",
       "      <td>0.905882</td>\n",
       "      <td>0.708734</td>\n",
       "    </tr>\n",
       "    <tr>\n",
       "      <th>1</th>\n",
       "      <td>0.897632</td>\n",
       "      <td>0.7727</td>\n",
       "      <td>0.886703</td>\n",
       "      <td>0.691552</td>\n",
       "    </tr>\n",
       "    <tr>\n",
       "      <th>2</th>\n",
       "      <td>0.898031</td>\n",
       "      <td>0.7669</td>\n",
       "      <td>0.898717</td>\n",
       "      <td>0.687871</td>\n",
       "    </tr>\n",
       "    <tr>\n",
       "      <th>3</th>\n",
       "      <td>0.905148</td>\n",
       "      <td>0.7770</td>\n",
       "      <td>0.903675</td>\n",
       "      <td>0.704234</td>\n",
       "    </tr>\n",
       "    <tr>\n",
       "      <th>4</th>\n",
       "      <td>0.904459</td>\n",
       "      <td>0.7693</td>\n",
       "      <td>0.896962</td>\n",
       "      <td>0.694416</td>\n",
       "    </tr>\n",
       "  </tbody>\n",
       "</table>\n",
       "</div>"
      ],
      "text/plain": [
       "   Accuracy  Coverage  Precision    Recall\n",
       "0  0.911840    0.7838   0.905882  0.708734\n",
       "1  0.897632    0.7727   0.886703  0.691552\n",
       "2  0.898031    0.7669   0.898717  0.687871\n",
       "3  0.905148    0.7770   0.903675  0.704234\n",
       "4  0.904459    0.7693   0.896962  0.694416"
      ]
     },
     "execution_count": 8,
     "metadata": {},
     "output_type": "execute_result"
    }
   ],
   "source": [
    "vf.train_gen_model()\n",
    "vf.gen_model.learned_lf_stats()"
   ]
  },
  {
   "cell_type": "code",
   "execution_count": 9,
   "metadata": {},
   "outputs": [
    {
     "data": {
      "image/png": "[encoded data removed]",
      "text/plain": [
       "<matplotlib.figure.Figure at 0x7fb263eacf10>"
      ]
     },
     "metadata": {},
     "output_type": "display_data"
    }
   ],
   "source": [
    "vf.assign_marginals()\n",
    "plt.hist(vf.train_marginals, bins=20)\n",
    "plt.show()"
   ]
  },
  {
   "cell_type": "code",
   "execution_count": 10,
   "metadata": {
    "scrolled": true
   },
   "outputs": [
    {
     "data": {
      "text/plain": [
       "0.79"
      ]
     },
     "execution_count": 10,
     "metadata": {},
     "output_type": "execute_result"
    }
   ],
   "source": [
    "vague_idx = vf.find_vague_points(b=0.6, thresh=0.2)\n",
    "incorrect_idx = vf.find_incorrect_points(b=0.6)\n",
    "#TODO call the function, print TP/FP/F1/P/R etc in pandas format\n",
    "1-np.shape(incorrect_idx)[0]/float(np.shape(val_ground)[0])"
   ]
  },
  {
   "cell_type": "markdown",
   "metadata": {},
   "source": [
    "## Re-Synthesize Labeling Functions"
   ]
  },
  {
   "cell_type": "code",
   "execution_count": 11,
   "metadata": {},
   "outputs": [],
   "source": [
    "special_idx = list(set(list(np.concatenate((vague_idx,incorrect_idx)))))"
   ]
  },
  {
   "cell_type": "code",
   "execution_count": 12,
   "metadata": {},
   "outputs": [],
   "source": [
    "syn = Synthesizer(val_primitive_matrix[special_idx,:], val_ground[special_idx])"
   ]
  },
  {
   "cell_type": "code",
   "execution_count": 13,
   "metadata": {},
   "outputs": [],
   "source": [
    "hf, feat_combos = syn.generate_heuristics(cardinality=1)"
   ]
  },
  {
   "cell_type": "code",
   "execution_count": 14,
   "metadata": {},
   "outputs": [],
   "source": [
    "#optional pruning\n",
    "sort_idx = syn.prune_heuristics(hf,feat_combos, keep=5)\n",
    "hf = [hf[i] for i in sort_idx]\n",
    "feat_combos = [feat_combos[i] for i in sort_idx]"
   ]
  },
  {
   "cell_type": "code",
   "execution_count": 15,
   "metadata": {},
   "outputs": [],
   "source": [
    "X_train = train_primitive_matrix[:,feat_combos]\n",
    "L_train_new = syn.apply_heuristics(hf,X_train)\n",
    "\n",
    "X_val = val_primitive_matrix[:,feat_combos]\n",
    "L_val_new = syn.apply_heuristics(hf,X_val)"
   ]
  },
  {
   "cell_type": "code",
   "execution_count": 16,
   "metadata": {},
   "outputs": [],
   "source": [
    "L_train_all = np.concatenate((L_train,L_train_new), axis=1)\n",
    "L_val_all = np.concatenate((L_val,L_val_new), axis=1)"
   ]
  },
  {
   "cell_type": "code",
   "execution_count": 17,
   "metadata": {},
   "outputs": [
    {
     "ename": "ImportError",
     "evalue": "No module named verifier",
     "output_type": "error",
     "traceback": [
      "\u001b[0;31m-------------------------------------------------------------------------\u001b[0m",
      "\u001b[0;31mImportError\u001b[0m                             Traceback (most recent call last)",
      "\u001b[0;32m<ipython-input-17-8c950a586ee3>\u001b[0m in \u001b[0;36m<module>\u001b[0;34m()\u001b[0m\n\u001b[0;32m----> 1\u001b[0;31m \u001b[0;32mfrom\u001b[0m \u001b[0mverifier\u001b[0m \u001b[0;32mimport\u001b[0m \u001b[0mVerifier\u001b[0m\u001b[0;34m\u001b[0m\u001b[0m\n\u001b[0m\u001b[1;32m      2\u001b[0m \u001b[0mvf\u001b[0m \u001b[0;34m=\u001b[0m \u001b[0mVerifier\u001b[0m\u001b[0;34m(\u001b[0m\u001b[0mL_train_all\u001b[0m\u001b[0;34m,\u001b[0m \u001b[0mL_val_all\u001b[0m\u001b[0;34m,\u001b[0m \u001b[0mval_ground\u001b[0m\u001b[0;34m)\u001b[0m\u001b[0;34m\u001b[0m\u001b[0m\n",
      "\u001b[0;31mImportError\u001b[0m: No module named verifier"
     ]
    }
   ],
   "source": [
    "from verifier import Verifier\n",
    "vf = Verifier(L_train_all, L_val_all, val_ground)"
   ]
  },
  {
   "cell_type": "code",
   "execution_count": 18,
   "metadata": {},
   "outputs": [
    {
     "name": "stdout",
     "output_type": "stream",
     "text": [
      "Inferred cardinality: 2\n"
     ]
    },
    {
     "data": {
      "text/html": [
       "<div>\n",
       "<style>\n",
       "    .dataframe thead tr:only-child th {\n",
       "        text-align: right;\n",
       "    }\n",
       "\n",
       "    .dataframe thead th {\n",
       "        text-align: left;\n",
       "    }\n",
       "\n",
       "    .dataframe tbody tr th {\n",
       "        vertical-align: top;\n",
       "    }\n",
       "</style>\n",
       "<table border=\"1\" class=\"dataframe\">\n",
       "  <thead>\n",
       "    <tr style=\"text-align: right;\">\n",
       "      <th></th>\n",
       "      <th>Accuracy</th>\n",
       "      <th>Coverage</th>\n",
       "      <th>Precision</th>\n",
       "      <th>Recall</th>\n",
       "    </tr>\n",
       "  </thead>\n",
       "  <tbody>\n",
       "    <tr>\n",
       "      <th>0</th>\n",
       "      <td>0.911840</td>\n",
       "      <td>0.7838</td>\n",
       "      <td>0.905882</td>\n",
       "      <td>0.708734</td>\n",
       "    </tr>\n",
       "    <tr>\n",
       "      <th>1</th>\n",
       "      <td>0.897632</td>\n",
       "      <td>0.7727</td>\n",
       "      <td>0.886703</td>\n",
       "      <td>0.691552</td>\n",
       "    </tr>\n",
       "    <tr>\n",
       "      <th>2</th>\n",
       "      <td>0.898031</td>\n",
       "      <td>0.7669</td>\n",
       "      <td>0.898717</td>\n",
       "      <td>0.687871</td>\n",
       "    </tr>\n",
       "    <tr>\n",
       "      <th>3</th>\n",
       "      <td>0.905148</td>\n",
       "      <td>0.7770</td>\n",
       "      <td>0.903675</td>\n",
       "      <td>0.704234</td>\n",
       "    </tr>\n",
       "    <tr>\n",
       "      <th>4</th>\n",
       "      <td>0.904459</td>\n",
       "      <td>0.7693</td>\n",
       "      <td>0.896962</td>\n",
       "      <td>0.694416</td>\n",
       "    </tr>\n",
       "  </tbody>\n",
       "</table>\n",
       "</div>"
      ],
      "text/plain": [
       "   Accuracy  Coverage  Precision    Recall\n",
       "0  0.911840    0.7838   0.905882  0.708734\n",
       "1  0.897632    0.7727   0.886703  0.691552\n",
       "2  0.898031    0.7669   0.898717  0.687871\n",
       "3  0.905148    0.7770   0.903675  0.704234\n",
       "4  0.904459    0.7693   0.896962  0.694416"
      ]
     },
     "execution_count": 18,
     "metadata": {},
     "output_type": "execute_result"
    }
   ],
   "source": [
    "vf.train_gen_model()\n",
    "vf.gen_model.learned_lf_stats()"
   ]
  },
  {
   "cell_type": "code",
   "execution_count": 19,
   "metadata": {},
   "outputs": [
    {
     "data": {
      "image/png": "[encoded data removed]",
      "text/plain": [
       "<matplotlib.figure.Figure at 0x7fb263bc8690>"
      ]
     },
     "metadata": {},
     "output_type": "display_data"
    }
   ],
   "source": [
    "vf.assign_marginals()\n",
    "plt.hist(vf.train_marginals, bins=20)\n",
    "plt.show()"
   ]
  },
  {
   "cell_type": "code",
   "execution_count": 20,
   "metadata": {},
   "outputs": [
    {
     "data": {
      "text/plain": [
       "0.79"
      ]
     },
     "execution_count": 20,
     "metadata": {},
     "output_type": "execute_result"
    }
   ],
   "source": [
    "vague_idx = vf.find_vague_points(b=0.6, thresh=0.2)\n",
    "incorrect_idx = vf.find_incorrect_points(b=0.6)\n",
    "#TODO call the function, print TP/FP/F1/P/R etc in pandas format\n",
    "1-np.shape(incorrect_idx)[0]/float(np.shape(val_ground)[0])"
   ]
  },
  {
   "cell_type": "code",
   "execution_count": 21,
   "metadata": {},
   "outputs": [],
   "source": [
    "special_idx = list(set(list(np.concatenate((vague_idx,incorrect_idx)))))"
   ]
  },
  {
   "cell_type": "code",
   "execution_count": 22,
   "metadata": {},
   "outputs": [],
   "source": [
    "syn = Synthesizer(val_primitive_matrix[special_idx,:], val_ground[special_idx])\n",
    "hf, feat_combos = syn.generate_heuristics(cardinality=1)"
   ]
  },
  {
   "cell_type": "code",
   "execution_count": 23,
   "metadata": {},
   "outputs": [],
   "source": [
    "#optional pruning\n",
    "sort_idx = syn.prune_heuristics(hf,feat_combos, keep=3)\n",
    "hf = [hf[i] for i in sort_idx]\n",
    "feat_combos = [feat_combos[i] for i in sort_idx]"
   ]
  },
  {
   "cell_type": "code",
   "execution_count": 24,
   "metadata": {},
   "outputs": [],
   "source": [
    "X_train = train_primitive_matrix[:,feat_combos]\n",
    "L_train_new = syn.apply_heuristics(hf,X_train)\n",
    "\n",
    "X_val = val_primitive_matrix[:,feat_combos]\n",
    "L_val_new = syn.apply_heuristics(hf,X_val)"
   ]
  },
  {
   "cell_type": "code",
   "execution_count": 25,
   "metadata": {},
   "outputs": [],
   "source": [
    "L_train_all = np.concatenate((L_train_all,L_train_new), axis=1)\n",
    "L_val_all = np.concatenate((L_val_all,L_val_new), axis=1)"
   ]
  },
  {
   "cell_type": "code",
   "execution_count": 27,
   "metadata": {},
   "outputs": [
    {
     "name": "stdout",
     "output_type": "stream",
     "text": [
      "Inferred cardinality: 2\n"
     ]
    },
    {
     "data": {
      "image/png": "[encoded data removed]",
      "text/plain": [
       "<matplotlib.figure.Figure at 0x7fb2153c90d0>"
      ]
     },
     "metadata": {},
     "output_type": "display_data"
    }
   ],
   "source": [
    "vf = Verifier(L_train_all, L_val_all, val_ground)\n",
    "\n",
    "vf.train_gen_model()\n",
    "vf.gen_model.learned_lf_stats()\n",
    "\n",
    "vf.assign_marginals()\n",
    "plt.hist(vf.train_marginals, bins=20)\n",
    "plt.show()"
   ]
  },
  {
   "cell_type": "code",
   "execution_count": 28,
   "metadata": {},
   "outputs": [
    {
     "data": {
      "text/plain": [
       "0.405"
      ]
     },
     "execution_count": 28,
     "metadata": {},
     "output_type": "execute_result"
    }
   ],
   "source": [
    "vague_idx = vf.find_vague_points(b=0.6, thresh=0.2)\n",
    "incorrect_idx = vf.find_incorrect_points(b=0.6)\n",
    "#TODO call the function, print TP/FP/F1/P/R etc in pandas format\n",
    "1-np.shape(incorrect_idx)[0]/float(np.shape(val_ground)[0])"
   ]
  },
  {
   "cell_type": "code",
   "execution_count": null,
   "metadata": {},
   "outputs": [],
   "source": []
  }
 ],
 "metadata": {
  "kernelspec": {
   "display_name": "Python 2",
   "language": "python",
   "name": "python2"
  },
  "language_info": {
   "codemirror_mode": {
    "name": "ipython",
    "version": 2
   },
   "file_extension": ".py",
   "mimetype": "text/x-python",
   "name": "python",
   "nbconvert_exporter": "python",
   "pygments_lexer": "ipython2",
   "version": "2.7.13"
  }
 },
 "nbformat": 4,
 "nbformat_minor": 2
}
