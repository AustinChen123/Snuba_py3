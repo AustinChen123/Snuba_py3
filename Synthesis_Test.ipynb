{
 "cells": [
  {
   "cell_type": "code",
   "execution_count": 1,
   "metadata": {},
   "outputs": [
    {
     "name": "stdout",
     "output_type": "stream",
     "text": [
      "The autoreload extension is already loaded. To reload it, use:\n",
      "  %reload_ext autoreload\n"
     ]
    }
   ],
   "source": [
    "%load_ext autoreload\n",
    "%autoreload 2\n",
    "\n",
    "import numpy as np\n",
    "import matplotlib.pyplot as plt\n",
    "%matplotlib inline"
   ]
  },
  {
   "cell_type": "markdown",
   "metadata": {},
   "source": [
    "## Load Dataset"
   ]
  },
  {
   "cell_type": "code",
   "execution_count": 2,
   "metadata": {},
   "outputs": [],
   "source": [
    "dataset='bone_tumor'\n",
    "\n",
    "from loader import DataLoader\n",
    "dl = DataLoader()\n",
    "primitive_matrix, ground = dl.load_data(dataset=dataset)"
   ]
  },
  {
   "cell_type": "code",
   "execution_count": 3,
   "metadata": {},
   "outputs": [],
   "source": [
    "#TODO formalize\n",
    "train_primitive_matrix = primitive_matrix[0:400,:]\n",
    "train_ground = ground[0:400]\n",
    "\n",
    "val_primitive_matrix = primitive_matrix[400:600,:]\n",
    "val_ground = ground[400:600]"
   ]
  },
  {
   "cell_type": "markdown",
   "metadata": {},
   "source": [
    "## Synthesize Heuristics"
   ]
  },
  {
   "cell_type": "code",
   "execution_count": 4,
   "metadata": {},
   "outputs": [],
   "source": [
    "from synthesizer import Synthesizer\n",
    "syn = Synthesizer(val_primitive_matrix, val_ground)"
   ]
  },
  {
   "cell_type": "code",
   "execution_count": 5,
   "metadata": {},
   "outputs": [],
   "source": [
    "hf, feat_combos = syn.generate_heuristics(cardinality=1)\n",
    "\n",
    "#optional pruning\n",
    "# sort_idx = syn.prune_heuristics(hf,feat_combos, keep=30)\n",
    "# hf = [hf[i] for i in sort_idx]\n",
    "# feat_combos = [feat_combos[i] for i in sort_idx]"
   ]
  },
  {
   "cell_type": "code",
   "execution_count": 6,
   "metadata": {},
   "outputs": [],
   "source": [
    "X_train = train_primitive_matrix[:,feat_combos]\n",
    "L_train = syn.apply_heuristics(hf,X_train)\n",
    "\n",
    "X_val = val_primitive_matrix[:,feat_combos]\n",
    "L_val = syn.apply_heuristics(hf,X_val)"
   ]
  },
  {
   "cell_type": "markdown",
   "metadata": {},
   "source": [
    "## Verify Heuristics"
   ]
  },
  {
   "cell_type": "code",
   "execution_count": 7,
   "metadata": {},
   "outputs": [],
   "source": [
    "from verifier import Verifier\n",
    "vf = Verifier(L_train, L_val, val_ground)"
   ]
  },
  {
   "cell_type": "code",
   "execution_count": 8,
   "metadata": {},
   "outputs": [
    {
     "name": "stdout",
     "output_type": "stream",
     "text": [
      "Inferred cardinality: 2\n"
     ]
    },
    {
     "data": {
      "text/html": [
       "<div>\n",
       "<style>\n",
       "    .dataframe thead tr:only-child th {\n",
       "        text-align: right;\n",
       "    }\n",
       "\n",
       "    .dataframe thead th {\n",
       "        text-align: left;\n",
       "    }\n",
       "\n",
       "    .dataframe tbody tr th {\n",
       "        vertical-align: top;\n",
       "    }\n",
       "</style>\n",
       "<table border=\"1\" class=\"dataframe\">\n",
       "  <thead>\n",
       "    <tr style=\"text-align: right;\">\n",
       "      <th></th>\n",
       "      <th>Accuracy</th>\n",
       "      <th>Coverage</th>\n",
       "      <th>Precision</th>\n",
       "      <th>Recall</th>\n",
       "    </tr>\n",
       "  </thead>\n",
       "  <tbody>\n",
       "    <tr>\n",
       "      <th>0</th>\n",
       "      <td>0.891871</td>\n",
       "      <td>0.7602</td>\n",
       "      <td>0.934155</td>\n",
       "      <td>0.678503</td>\n",
       "    </tr>\n",
       "    <tr>\n",
       "      <th>1</th>\n",
       "      <td>0.901966</td>\n",
       "      <td>0.7732</td>\n",
       "      <td>0.939355</td>\n",
       "      <td>0.693698</td>\n",
       "    </tr>\n",
       "    <tr>\n",
       "      <th>2</th>\n",
       "      <td>0.902394</td>\n",
       "      <td>0.7602</td>\n",
       "      <td>0.946440</td>\n",
       "      <td>0.686820</td>\n",
       "    </tr>\n",
       "    <tr>\n",
       "      <th>3</th>\n",
       "      <td>0.901465</td>\n",
       "      <td>0.7713</td>\n",
       "      <td>0.943603</td>\n",
       "      <td>0.687780</td>\n",
       "    </tr>\n",
       "    <tr>\n",
       "      <th>4</th>\n",
       "      <td>0.860016</td>\n",
       "      <td>0.7508</td>\n",
       "      <td>0.909662</td>\n",
       "      <td>0.649072</td>\n",
       "    </tr>\n",
       "    <tr>\n",
       "      <th>5</th>\n",
       "      <td>0.847133</td>\n",
       "      <td>0.7307</td>\n",
       "      <td>0.899513</td>\n",
       "      <td>0.619962</td>\n",
       "    </tr>\n",
       "    <tr>\n",
       "      <th>6</th>\n",
       "      <td>0.875975</td>\n",
       "      <td>0.7434</td>\n",
       "      <td>0.921976</td>\n",
       "      <td>0.659629</td>\n",
       "    </tr>\n",
       "    <tr>\n",
       "      <th>7</th>\n",
       "      <td>0.819359</td>\n",
       "      <td>0.7180</td>\n",
       "      <td>0.882521</td>\n",
       "      <td>0.591171</td>\n",
       "    </tr>\n",
       "    <tr>\n",
       "      <th>8</th>\n",
       "      <td>0.876614</td>\n",
       "      <td>0.7513</td>\n",
       "      <td>0.922387</td>\n",
       "      <td>0.657710</td>\n",
       "    </tr>\n",
       "    <tr>\n",
       "      <th>9</th>\n",
       "      <td>0.883349</td>\n",
       "      <td>0.7561</td>\n",
       "      <td>0.927527</td>\n",
       "      <td>0.669386</td>\n",
       "    </tr>\n",
       "    <tr>\n",
       "      <th>10</th>\n",
       "      <td>0.871037</td>\n",
       "      <td>0.7506</td>\n",
       "      <td>0.915468</td>\n",
       "      <td>0.651312</td>\n",
       "    </tr>\n",
       "    <tr>\n",
       "      <th>11</th>\n",
       "      <td>0.862190</td>\n",
       "      <td>0.7416</td>\n",
       "      <td>0.909747</td>\n",
       "      <td>0.644914</td>\n",
       "    </tr>\n",
       "    <tr>\n",
       "      <th>12</th>\n",
       "      <td>0.832399</td>\n",
       "      <td>0.7136</td>\n",
       "      <td>0.891378</td>\n",
       "      <td>0.591971</td>\n",
       "    </tr>\n",
       "    <tr>\n",
       "      <th>13</th>\n",
       "      <td>0.828170</td>\n",
       "      <td>0.7263</td>\n",
       "      <td>0.882654</td>\n",
       "      <td>0.606366</td>\n",
       "    </tr>\n",
       "    <tr>\n",
       "      <th>14</th>\n",
       "      <td>0.841105</td>\n",
       "      <td>0.7206</td>\n",
       "      <td>0.899832</td>\n",
       "      <td>0.600608</td>\n",
       "    </tr>\n",
       "    <tr>\n",
       "      <th>15</th>\n",
       "      <td>0.880471</td>\n",
       "      <td>0.7563</td>\n",
       "      <td>0.921465</td>\n",
       "      <td>0.668106</td>\n",
       "    </tr>\n",
       "    <tr>\n",
       "      <th>16</th>\n",
       "      <td>0.892378</td>\n",
       "      <td>0.7610</td>\n",
       "      <td>0.929691</td>\n",
       "      <td>0.683141</td>\n",
       "    </tr>\n",
       "  </tbody>\n",
       "</table>\n",
       "</div>"
      ],
      "text/plain": [
       "    Accuracy  Coverage  Precision    Recall\n",
       "0   0.891871    0.7602   0.934155  0.678503\n",
       "1   0.901966    0.7732   0.939355  0.693698\n",
       "2   0.902394    0.7602   0.946440  0.686820\n",
       "3   0.901465    0.7713   0.943603  0.687780\n",
       "4   0.860016    0.7508   0.909662  0.649072\n",
       "5   0.847133    0.7307   0.899513  0.619962\n",
       "6   0.875975    0.7434   0.921976  0.659629\n",
       "7   0.819359    0.7180   0.882521  0.591171\n",
       "8   0.876614    0.7513   0.922387  0.657710\n",
       "9   0.883349    0.7561   0.927527  0.669386\n",
       "10  0.871037    0.7506   0.915468  0.651312\n",
       "11  0.862190    0.7416   0.909747  0.644914\n",
       "12  0.832399    0.7136   0.891378  0.591971\n",
       "13  0.828170    0.7263   0.882654  0.606366\n",
       "14  0.841105    0.7206   0.899832  0.600608\n",
       "15  0.880471    0.7563   0.921465  0.668106\n",
       "16  0.892378    0.7610   0.929691  0.683141"
      ]
     },
     "execution_count": 8,
     "metadata": {},
     "output_type": "execute_result"
    }
   ],
   "source": [
    "vf.train_gen_model()\n",
    "vf.gen_model.learned_lf_stats()"
   ]
  },
  {
   "cell_type": "code",
   "execution_count": 9,
   "metadata": {},
   "outputs": [
    {
     "data": {
      "image/png": "[encoded data removed]",
      "text/plain": [
       "<matplotlib.figure.Figure at 0x7f8d87c0b790>"
      ]
     },
     "metadata": {},
     "output_type": "display_data"
    }
   ],
   "source": [
    "vf.assign_marginals()\n",
    "plt.hist(vf.train_marginals, bins=20)\n",
    "plt.show()"
   ]
  },
  {
   "cell_type": "code",
   "execution_count": 10,
   "metadata": {
    "scrolled": true
   },
   "outputs": [
    {
     "data": {
      "text/plain": [
       "0.61"
      ]
     },
     "execution_count": 10,
     "metadata": {},
     "output_type": "execute_result"
    }
   ],
   "source": [
    "vague_idx = vf.find_vague_points(b=0.6, thresh=0.2)\n",
    "incorrect_idx = vf.find_incorrect_points(b=0.6)\n",
    "#TODO call the function, print TP/FP/F1/P/R etc in pandas format\n",
    "1-np.shape(incorrect_idx)[0]/float(np.shape(val_ground)[0])"
   ]
  },
  {
   "cell_type": "markdown",
   "metadata": {},
   "source": [
    "## Re-Synthesize Labeling Functions"
   ]
  },
  {
   "cell_type": "code",
   "execution_count": 11,
   "metadata": {},
   "outputs": [],
   "source": [
    "special_idx = list(set(list(np.concatenate((vague_idx,incorrect_idx)))))"
   ]
  },
  {
   "cell_type": "code",
   "execution_count": 12,
   "metadata": {},
   "outputs": [],
   "source": [
    "syn = Synthesizer(val_primitive_matrix[special_idx,:], val_ground[special_idx])"
   ]
  },
  {
   "cell_type": "code",
   "execution_count": 13,
   "metadata": {},
   "outputs": [],
   "source": [
    "hf, feat_combos = syn.generate_heuristics(cardinality=2)"
   ]
  },
  {
   "cell_type": "code",
   "execution_count": 14,
   "metadata": {},
   "outputs": [],
   "source": [
    "#optional pruning\n",
    "sort_idx = syn.prune_heuristics(hf,feat_combos, keep=10)\n",
    "hf = [hf[i] for i in sort_idx]\n",
    "feat_combos = [feat_combos[i] for i in sort_idx]"
   ]
  },
  {
   "cell_type": "code",
   "execution_count": 15,
   "metadata": {},
   "outputs": [],
   "source": [
    "X_train = train_primitive_matrix[:,feat_combos]\n",
    "L_train_new = syn.apply_heuristics(hf,X_train)\n",
    "\n",
    "X_val = val_primitive_matrix[:,feat_combos]\n",
    "L_val_new = syn.apply_heuristics(hf,X_val)"
   ]
  },
  {
   "cell_type": "code",
   "execution_count": 16,
   "metadata": {},
   "outputs": [],
   "source": [
    "L_train_all = np.concatenate((L_train,L_train_new), axis=1)\n",
    "L_val_all = np.concatenate((L_val,L_val_new), axis=1)"
   ]
  },
  {
   "cell_type": "code",
   "execution_count": 17,
   "metadata": {},
   "outputs": [],
   "source": [
    "from verifier import Verifier\n",
    "vf = Verifier(L_train_all, L_val_all, val_ground)"
   ]
  },
  {
   "cell_type": "code",
   "execution_count": 18,
   "metadata": {},
   "outputs": [
    {
     "name": "stdout",
     "output_type": "stream",
     "text": [
      "Inferred cardinality: 2\n"
     ]
    },
    {
     "data": {
      "text/html": [
       "<div>\n",
       "<style>\n",
       "    .dataframe thead tr:only-child th {\n",
       "        text-align: right;\n",
       "    }\n",
       "\n",
       "    .dataframe thead th {\n",
       "        text-align: left;\n",
       "    }\n",
       "\n",
       "    .dataframe tbody tr th {\n",
       "        vertical-align: top;\n",
       "    }\n",
       "</style>\n",
       "<table border=\"1\" class=\"dataframe\">\n",
       "  <thead>\n",
       "    <tr style=\"text-align: right;\">\n",
       "      <th></th>\n",
       "      <th>Accuracy</th>\n",
       "      <th>Coverage</th>\n",
       "      <th>Precision</th>\n",
       "      <th>Recall</th>\n",
       "    </tr>\n",
       "  </thead>\n",
       "  <tbody>\n",
       "    <tr>\n",
       "      <th>0</th>\n",
       "      <td>0.844218</td>\n",
       "      <td>0.7350</td>\n",
       "      <td>0.913655</td>\n",
       "      <td>0.621773</td>\n",
       "    </tr>\n",
       "    <tr>\n",
       "      <th>1</th>\n",
       "      <td>0.837553</td>\n",
       "      <td>0.7307</td>\n",
       "      <td>0.907496</td>\n",
       "      <td>0.604768</td>\n",
       "    </tr>\n",
       "    <tr>\n",
       "      <th>2</th>\n",
       "      <td>0.829545</td>\n",
       "      <td>0.7304</td>\n",
       "      <td>0.903938</td>\n",
       "      <td>0.602946</td>\n",
       "    </tr>\n",
       "    <tr>\n",
       "      <th>3</th>\n",
       "      <td>0.835147</td>\n",
       "      <td>0.7352</td>\n",
       "      <td>0.909749</td>\n",
       "      <td>0.610689</td>\n",
       "    </tr>\n",
       "    <tr>\n",
       "      <th>4</th>\n",
       "      <td>0.861939</td>\n",
       "      <td>0.7446</td>\n",
       "      <td>0.919394</td>\n",
       "      <td>0.635591</td>\n",
       "    </tr>\n",
       "    <tr>\n",
       "      <th>5</th>\n",
       "      <td>0.792924</td>\n",
       "      <td>0.7123</td>\n",
       "      <td>0.876887</td>\n",
       "      <td>0.564531</td>\n",
       "    </tr>\n",
       "    <tr>\n",
       "      <th>6</th>\n",
       "      <td>0.905919</td>\n",
       "      <td>0.7738</td>\n",
       "      <td>0.952195</td>\n",
       "      <td>0.701640</td>\n",
       "    </tr>\n",
       "    <tr>\n",
       "      <th>7</th>\n",
       "      <td>0.843695</td>\n",
       "      <td>0.7383</td>\n",
       "      <td>0.912576</td>\n",
       "      <td>0.618129</td>\n",
       "    </tr>\n",
       "    <tr>\n",
       "      <th>8</th>\n",
       "      <td>0.912876</td>\n",
       "      <td>0.7782</td>\n",
       "      <td>0.955710</td>\n",
       "      <td>0.707713</td>\n",
       "    </tr>\n",
       "    <tr>\n",
       "      <th>9</th>\n",
       "      <td>0.914628</td>\n",
       "      <td>0.7848</td>\n",
       "      <td>0.955215</td>\n",
       "      <td>0.718949</td>\n",
       "    </tr>\n",
       "    <tr>\n",
       "      <th>10</th>\n",
       "      <td>0.819704</td>\n",
       "      <td>0.7288</td>\n",
       "      <td>0.899496</td>\n",
       "      <td>0.596568</td>\n",
       "    </tr>\n",
       "    <tr>\n",
       "      <th>11</th>\n",
       "      <td>0.906121</td>\n",
       "      <td>0.7744</td>\n",
       "      <td>0.950350</td>\n",
       "      <td>0.700425</td>\n",
       "    </tr>\n",
       "    <tr>\n",
       "      <th>12</th>\n",
       "      <td>0.865431</td>\n",
       "      <td>0.7498</td>\n",
       "      <td>0.927404</td>\n",
       "      <td>0.645916</td>\n",
       "    </tr>\n",
       "    <tr>\n",
       "      <th>13</th>\n",
       "      <td>0.869751</td>\n",
       "      <td>0.7501</td>\n",
       "      <td>0.926108</td>\n",
       "      <td>0.656544</td>\n",
       "    </tr>\n",
       "    <tr>\n",
       "      <th>14</th>\n",
       "      <td>0.875117</td>\n",
       "      <td>0.7503</td>\n",
       "      <td>0.934868</td>\n",
       "      <td>0.653811</td>\n",
       "    </tr>\n",
       "    <tr>\n",
       "      <th>15</th>\n",
       "      <td>0.838205</td>\n",
       "      <td>0.7287</td>\n",
       "      <td>0.911617</td>\n",
       "      <td>0.607653</td>\n",
       "    </tr>\n",
       "    <tr>\n",
       "      <th>16</th>\n",
       "      <td>0.847224</td>\n",
       "      <td>0.7403</td>\n",
       "      <td>0.914279</td>\n",
       "      <td>0.625114</td>\n",
       "    </tr>\n",
       "    <tr>\n",
       "      <th>17</th>\n",
       "      <td>0.690190</td>\n",
       "      <td>0.6901</td>\n",
       "      <td>0.810251</td>\n",
       "      <td>0.475251</td>\n",
       "    </tr>\n",
       "    <tr>\n",
       "      <th>18</th>\n",
       "      <td>0.684763</td>\n",
       "      <td>0.6760</td>\n",
       "      <td>0.803818</td>\n",
       "      <td>0.460370</td>\n",
       "    </tr>\n",
       "    <tr>\n",
       "      <th>19</th>\n",
       "      <td>0.694363</td>\n",
       "      <td>0.6848</td>\n",
       "      <td>0.812049</td>\n",
       "      <td>0.478895</td>\n",
       "    </tr>\n",
       "    <tr>\n",
       "      <th>20</th>\n",
       "      <td>0.683663</td>\n",
       "      <td>0.6825</td>\n",
       "      <td>0.802505</td>\n",
       "      <td>0.467051</td>\n",
       "    </tr>\n",
       "    <tr>\n",
       "      <th>21</th>\n",
       "      <td>0.687317</td>\n",
       "      <td>0.6828</td>\n",
       "      <td>0.804269</td>\n",
       "      <td>0.469177</td>\n",
       "    </tr>\n",
       "    <tr>\n",
       "      <th>22</th>\n",
       "      <td>0.688866</td>\n",
       "      <td>0.6817</td>\n",
       "      <td>0.803891</td>\n",
       "      <td>0.470544</td>\n",
       "    </tr>\n",
       "    <tr>\n",
       "      <th>23</th>\n",
       "      <td>0.687601</td>\n",
       "      <td>0.6831</td>\n",
       "      <td>0.807542</td>\n",
       "      <td>0.471455</td>\n",
       "    </tr>\n",
       "    <tr>\n",
       "      <th>24</th>\n",
       "      <td>0.688571</td>\n",
       "      <td>0.6772</td>\n",
       "      <td>0.805167</td>\n",
       "      <td>0.463711</td>\n",
       "    </tr>\n",
       "    <tr>\n",
       "      <th>25</th>\n",
       "      <td>0.682784</td>\n",
       "      <td>0.6825</td>\n",
       "      <td>0.805695</td>\n",
       "      <td>0.464015</td>\n",
       "    </tr>\n",
       "    <tr>\n",
       "      <th>26</th>\n",
       "      <td>0.677969</td>\n",
       "      <td>0.6813</td>\n",
       "      <td>0.801434</td>\n",
       "      <td>0.458397</td>\n",
       "    </tr>\n",
       "  </tbody>\n",
       "</table>\n",
       "</div>"
      ],
      "text/plain": [
       "    Accuracy  Coverage  Precision    Recall\n",
       "0   0.844218    0.7350   0.913655  0.621773\n",
       "1   0.837553    0.7307   0.907496  0.604768\n",
       "2   0.829545    0.7304   0.903938  0.602946\n",
       "3   0.835147    0.7352   0.909749  0.610689\n",
       "4   0.861939    0.7446   0.919394  0.635591\n",
       "5   0.792924    0.7123   0.876887  0.564531\n",
       "6   0.905919    0.7738   0.952195  0.701640\n",
       "7   0.843695    0.7383   0.912576  0.618129\n",
       "8   0.912876    0.7782   0.955710  0.707713\n",
       "9   0.914628    0.7848   0.955215  0.718949\n",
       "10  0.819704    0.7288   0.899496  0.596568\n",
       "11  0.906121    0.7744   0.950350  0.700425\n",
       "12  0.865431    0.7498   0.927404  0.645916\n",
       "13  0.869751    0.7501   0.926108  0.656544\n",
       "14  0.875117    0.7503   0.934868  0.653811\n",
       "15  0.838205    0.7287   0.911617  0.607653\n",
       "16  0.847224    0.7403   0.914279  0.625114\n",
       "17  0.690190    0.6901   0.810251  0.475251\n",
       "18  0.684763    0.6760   0.803818  0.460370\n",
       "19  0.694363    0.6848   0.812049  0.478895\n",
       "20  0.683663    0.6825   0.802505  0.467051\n",
       "21  0.687317    0.6828   0.804269  0.469177\n",
       "22  0.688866    0.6817   0.803891  0.470544\n",
       "23  0.687601    0.6831   0.807542  0.471455\n",
       "24  0.688571    0.6772   0.805167  0.463711\n",
       "25  0.682784    0.6825   0.805695  0.464015\n",
       "26  0.677969    0.6813   0.801434  0.458397"
      ]
     },
     "execution_count": 18,
     "metadata": {},
     "output_type": "execute_result"
    }
   ],
   "source": [
    "vf.train_gen_model()\n",
    "vf.gen_model.learned_lf_stats()"
   ]
  },
  {
   "cell_type": "code",
   "execution_count": 19,
   "metadata": {},
   "outputs": [
    {
     "data": {
      "image/png": "[encoded data removed]",
      "text/plain": [
       "<matplotlib.figure.Figure at 0x7f8d87bbc210>"
      ]
     },
     "metadata": {},
     "output_type": "display_data"
    }
   ],
   "source": [
    "vf.assign_marginals()\n",
    "plt.hist(vf.train_marginals, bins=20)\n",
    "plt.show()"
   ]
  },
  {
   "cell_type": "code",
   "execution_count": 20,
   "metadata": {},
   "outputs": [
    {
     "data": {
      "text/plain": [
       "0.71"
      ]
     },
     "execution_count": 20,
     "metadata": {},
     "output_type": "execute_result"
    }
   ],
   "source": [
    "vague_idx = vf.find_vague_points(b=0.6, thresh=0.2)\n",
    "incorrect_idx = vf.find_incorrect_points(b=0.6)\n",
    "#TODO call the function, print TP/FP/F1/P/R etc in pandas format\n",
    "1-np.shape(incorrect_idx)[0]/float(np.shape(val_ground)[0])"
   ]
  },
  {
   "cell_type": "code",
   "execution_count": 21,
   "metadata": {},
   "outputs": [],
   "source": [
    "special_idx = list(set(list(np.concatenate((vague_idx,incorrect_idx)))))"
   ]
  },
  {
   "cell_type": "code",
   "execution_count": 22,
   "metadata": {},
   "outputs": [],
   "source": [
    "syn = Synthesizer(val_primitive_matrix[special_idx,:], val_ground[special_idx])\n",
    "hf, feat_combos = syn.generate_heuristics(cardinality=1)"
   ]
  },
  {
   "cell_type": "code",
   "execution_count": 23,
   "metadata": {},
   "outputs": [],
   "source": [
    "#optional pruning\n",
    "sort_idx = syn.prune_heuristics(hf,feat_combos, keep=3)\n",
    "hf = [hf[i] for i in sort_idx]\n",
    "feat_combos = [feat_combos[i] for i in sort_idx]"
   ]
  },
  {
   "cell_type": "code",
   "execution_count": 24,
   "metadata": {},
   "outputs": [],
   "source": [
    "X_train = train_primitive_matrix[:,feat_combos]\n",
    "L_train_new = syn.apply_heuristics(hf,X_train)\n",
    "\n",
    "X_val = val_primitive_matrix[:,feat_combos]\n",
    "L_val_new = syn.apply_heuristics(hf,X_val)"
   ]
  },
  {
   "cell_type": "code",
   "execution_count": 25,
   "metadata": {},
   "outputs": [],
   "source": [
    "L_train_all = np.concatenate((L_train_all,L_train_new), axis=1)\n",
    "L_val_all = np.concatenate((L_val_all,L_val_new), axis=1)"
   ]
  },
  {
   "cell_type": "code",
   "execution_count": 26,
   "metadata": {},
   "outputs": [
    {
     "name": "stdout",
     "output_type": "stream",
     "text": [
      "Inferred cardinality: 2\n"
     ]
    },
    {
     "data": {
      "image/png": "[encoded data removed]",
      "text/plain": [
       "<matplotlib.figure.Figure at 0x7f8d87c0bf50>"
      ]
     },
     "metadata": {},
     "output_type": "display_data"
    }
   ],
   "source": [
    "from verifier import Verifier\n",
    "vf = Verifier(L_train_all, L_val_all, val_ground)\n",
    "\n",
    "vf.train_gen_model()\n",
    "vf.gen_model.learned_lf_stats()\n",
    "\n",
    "vf.assign_marginals()\n",
    "plt.hist(vf.train_marginals, bins=20)\n",
    "plt.show()"
   ]
  },
  {
   "cell_type": "code",
   "execution_count": 27,
   "metadata": {},
   "outputs": [
    {
     "data": {
      "text/plain": [
       "0.45499999999999996"
      ]
     },
     "execution_count": 27,
     "metadata": {},
     "output_type": "execute_result"
    }
   ],
   "source": [
    "vague_idx = vf.find_vague_points(b=0.6, thresh=0.2)\n",
    "incorrect_idx = vf.find_incorrect_points(b=0.6)\n",
    "#TODO call the function, print TP/FP/F1/P/R etc in pandas format\n",
    "1-np.shape(incorrect_idx)[0]/float(np.shape(val_ground)[0])"
   ]
  },
  {
   "cell_type": "code",
   "execution_count": null,
   "metadata": {},
   "outputs": [],
   "source": []
  }
 ],
 "metadata": {
  "kernelspec": {
   "display_name": "Python 2",
   "language": "python",
   "name": "python2"
  },
  "language_info": {
   "codemirror_mode": {
    "name": "ipython",
    "version": 2
   },
   "file_extension": ".py",
   "mimetype": "text/x-python",
   "name": "python",
   "nbconvert_exporter": "python",
   "pygments_lexer": "ipython2",
   "version": "2.7.13"
  }
 },
 "nbformat": 4,
 "nbformat_minor": 2
}
