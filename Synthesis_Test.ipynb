{
 "cells": [
  {
   "cell_type": "code",
   "execution_count": 1,
   "metadata": {},
   "outputs": [
    {
     "name": "stdout",
     "output_type": "stream",
     "text": [
      "The autoreload extension is already loaded. To reload it, use:\n",
      "  %reload_ext autoreload\n"
     ]
    }
   ],
   "source": [
    "%load_ext autoreload\n",
    "%autoreload 2\n",
    "\n",
    "import numpy as np\n",
    "import matplotlib.pyplot as plt\n",
    "%matplotlib inline"
   ]
  },
  {
   "cell_type": "markdown",
   "metadata": {},
   "source": [
    "## Load Dataset"
   ]
  },
  {
   "cell_type": "code",
   "execution_count": 2,
   "metadata": {},
   "outputs": [],
   "source": [
    "dataset='bone_tumor'\n",
    "\n",
    "from loader import DataLoader\n",
    "dl = DataLoader()\n",
    "primitive_matrix, ground = dl.load_data(dataset=dataset)"
   ]
  },
  {
   "cell_type": "code",
   "execution_count": 3,
   "metadata": {},
   "outputs": [],
   "source": [
    "#TODO formalize\n",
    "train_primitive_matrix = primitive_matrix[0:400,:]\n",
    "train_ground = ground[0:400]\n",
    "\n",
    "val_primitive_matrix = primitive_matrix[400:600,:]\n",
    "val_ground = ground[400:600]"
   ]
  },
  {
   "cell_type": "markdown",
   "metadata": {},
   "source": [
    "## Synthesize Heuristics"
   ]
  },
  {
   "cell_type": "code",
   "execution_count": 12,
   "metadata": {},
   "outputs": [],
   "source": [
    "from synthesizer import Synthesizer\n",
    "syn = Synthesizer(val_primitive_matrix, val_ground)"
   ]
  },
  {
   "cell_type": "code",
   "execution_count": 40,
   "metadata": {},
   "outputs": [],
   "source": [
    "hf, feat_combos = syn.generate_heuristics(cardinality=2)\n",
    "\n",
    "#optional pruning\n",
    "sort_idx = syn.prune_heuristics(hf,feat_combos, keep=30)\n",
    "hf = [hf[i] for i in sort_idx]\n",
    "feat_combos = [feat_combos[i] for i in sort_idx]"
   ]
  },
  {
   "cell_type": "code",
   "execution_count": 41,
   "metadata": {},
   "outputs": [],
   "source": [
    "X_train = train_primitive_matrix[:,feat_combos]\n",
    "L_train = syn.apply_heuristics(hf,X_train)\n",
    "\n",
    "X_val = val_primitive_matrix[:,feat_combos]\n",
    "L_val = syn.apply_heuristics(hf,X_val)"
   ]
  },
  {
   "cell_type": "markdown",
   "metadata": {},
   "source": [
    "## Verify Heuristics"
   ]
  },
  {
   "cell_type": "code",
   "execution_count": 42,
   "metadata": {},
   "outputs": [],
   "source": [
    "from verifier import Verifier\n",
    "vf = Verifier(L_train, L_val, val_ground)"
   ]
  },
  {
   "cell_type": "code",
   "execution_count": 43,
   "metadata": {},
   "outputs": [
    {
     "name": "stdout",
     "output_type": "stream",
     "text": [
      "Inferred cardinality: 2\n"
     ]
    },
    {
     "data": {
      "text/html": [
       "<div>\n",
       "<style>\n",
       "    .dataframe thead tr:only-child th {\n",
       "        text-align: right;\n",
       "    }\n",
       "\n",
       "    .dataframe thead th {\n",
       "        text-align: left;\n",
       "    }\n",
       "\n",
       "    .dataframe tbody tr th {\n",
       "        vertical-align: top;\n",
       "    }\n",
       "</style>\n",
       "<table border=\"1\" class=\"dataframe\">\n",
       "  <thead>\n",
       "    <tr style=\"text-align: right;\">\n",
       "      <th></th>\n",
       "      <th>Accuracy</th>\n",
       "      <th>Coverage</th>\n",
       "      <th>Precision</th>\n",
       "      <th>Recall</th>\n",
       "    </tr>\n",
       "  </thead>\n",
       "  <tbody>\n",
       "    <tr>\n",
       "      <th>0</th>\n",
       "      <td>0.910270</td>\n",
       "      <td>0.7712</td>\n",
       "      <td>0.915022</td>\n",
       "      <td>0.6956</td>\n",
       "    </tr>\n",
       "    <tr>\n",
       "      <th>1</th>\n",
       "      <td>0.899871</td>\n",
       "      <td>0.7740</td>\n",
       "      <td>0.898718</td>\n",
       "      <td>0.7010</td>\n",
       "    </tr>\n",
       "    <tr>\n",
       "      <th>2</th>\n",
       "      <td>0.913694</td>\n",
       "      <td>0.7821</td>\n",
       "      <td>0.914424</td>\n",
       "      <td>0.7202</td>\n",
       "    </tr>\n",
       "    <tr>\n",
       "      <th>3</th>\n",
       "      <td>0.912349</td>\n",
       "      <td>0.7758</td>\n",
       "      <td>0.911986</td>\n",
       "      <td>0.7046</td>\n",
       "    </tr>\n",
       "    <tr>\n",
       "      <th>4</th>\n",
       "      <td>0.913893</td>\n",
       "      <td>0.7781</td>\n",
       "      <td>0.912877</td>\n",
       "      <td>0.7146</td>\n",
       "    </tr>\n",
       "    <tr>\n",
       "      <th>5</th>\n",
       "      <td>0.886707</td>\n",
       "      <td>0.7538</td>\n",
       "      <td>0.888560</td>\n",
       "      <td>0.6602</td>\n",
       "    </tr>\n",
       "    <tr>\n",
       "      <th>6</th>\n",
       "      <td>0.911795</td>\n",
       "      <td>0.7800</td>\n",
       "      <td>0.910164</td>\n",
       "      <td>0.7092</td>\n",
       "    </tr>\n",
       "    <tr>\n",
       "      <th>7</th>\n",
       "      <td>0.906214</td>\n",
       "      <td>0.7741</td>\n",
       "      <td>0.906797</td>\n",
       "      <td>0.7044</td>\n",
       "    </tr>\n",
       "    <tr>\n",
       "      <th>8</th>\n",
       "      <td>0.902298</td>\n",
       "      <td>0.7615</td>\n",
       "      <td>0.905963</td>\n",
       "      <td>0.6898</td>\n",
       "    </tr>\n",
       "    <tr>\n",
       "      <th>9</th>\n",
       "      <td>0.916645</td>\n",
       "      <td>0.7786</td>\n",
       "      <td>0.912424</td>\n",
       "      <td>0.7168</td>\n",
       "    </tr>\n",
       "    <tr>\n",
       "      <th>10</th>\n",
       "      <td>0.909091</td>\n",
       "      <td>0.7733</td>\n",
       "      <td>0.911481</td>\n",
       "      <td>0.7002</td>\n",
       "    </tr>\n",
       "    <tr>\n",
       "      <th>11</th>\n",
       "      <td>0.896229</td>\n",
       "      <td>0.7690</td>\n",
       "      <td>0.896894</td>\n",
       "      <td>0.6872</td>\n",
       "    </tr>\n",
       "    <tr>\n",
       "      <th>12</th>\n",
       "      <td>0.918867</td>\n",
       "      <td>0.7876</td>\n",
       "      <td>0.920603</td>\n",
       "      <td>0.7212</td>\n",
       "    </tr>\n",
       "    <tr>\n",
       "      <th>13</th>\n",
       "      <td>0.917785</td>\n",
       "      <td>0.7821</td>\n",
       "      <td>0.915787</td>\n",
       "      <td>0.7112</td>\n",
       "    </tr>\n",
       "    <tr>\n",
       "      <th>14</th>\n",
       "      <td>0.922134</td>\n",
       "      <td>0.7834</td>\n",
       "      <td>0.924254</td>\n",
       "      <td>0.7248</td>\n",
       "    </tr>\n",
       "    <tr>\n",
       "      <th>15</th>\n",
       "      <td>0.911049</td>\n",
       "      <td>0.7847</td>\n",
       "      <td>0.910478</td>\n",
       "      <td>0.7160</td>\n",
       "    </tr>\n",
       "    <tr>\n",
       "      <th>16</th>\n",
       "      <td>0.870152</td>\n",
       "      <td>0.7478</td>\n",
       "      <td>0.870262</td>\n",
       "      <td>0.6520</td>\n",
       "    </tr>\n",
       "    <tr>\n",
       "      <th>17</th>\n",
       "      <td>0.918283</td>\n",
       "      <td>0.7734</td>\n",
       "      <td>0.917034</td>\n",
       "      <td>0.7074</td>\n",
       "    </tr>\n",
       "    <tr>\n",
       "      <th>18</th>\n",
       "      <td>0.867712</td>\n",
       "      <td>0.7529</td>\n",
       "      <td>0.872346</td>\n",
       "      <td>0.6492</td>\n",
       "    </tr>\n",
       "    <tr>\n",
       "      <th>19</th>\n",
       "      <td>0.903469</td>\n",
       "      <td>0.7697</td>\n",
       "      <td>0.902368</td>\n",
       "      <td>0.6858</td>\n",
       "    </tr>\n",
       "    <tr>\n",
       "      <th>20</th>\n",
       "      <td>0.894090</td>\n",
       "      <td>0.7648</td>\n",
       "      <td>0.889956</td>\n",
       "      <td>0.6858</td>\n",
       "    </tr>\n",
       "    <tr>\n",
       "      <th>21</th>\n",
       "      <td>0.865143</td>\n",
       "      <td>0.7482</td>\n",
       "      <td>0.862808</td>\n",
       "      <td>0.6440</td>\n",
       "    </tr>\n",
       "    <tr>\n",
       "      <th>22</th>\n",
       "      <td>0.857143</td>\n",
       "      <td>0.7441</td>\n",
       "      <td>0.858836</td>\n",
       "      <td>0.6376</td>\n",
       "    </tr>\n",
       "    <tr>\n",
       "      <th>23</th>\n",
       "      <td>0.896307</td>\n",
       "      <td>0.7609</td>\n",
       "      <td>0.894421</td>\n",
       "      <td>0.6862</td>\n",
       "    </tr>\n",
       "    <tr>\n",
       "      <th>24</th>\n",
       "      <td>0.897518</td>\n",
       "      <td>0.7533</td>\n",
       "      <td>0.894488</td>\n",
       "      <td>0.6816</td>\n",
       "    </tr>\n",
       "    <tr>\n",
       "      <th>25</th>\n",
       "      <td>0.861617</td>\n",
       "      <td>0.7472</td>\n",
       "      <td>0.861637</td>\n",
       "      <td>0.6464</td>\n",
       "    </tr>\n",
       "    <tr>\n",
       "      <th>26</th>\n",
       "      <td>0.903671</td>\n",
       "      <td>0.7682</td>\n",
       "      <td>0.903014</td>\n",
       "      <td>0.6890</td>\n",
       "    </tr>\n",
       "    <tr>\n",
       "      <th>27</th>\n",
       "      <td>0.861736</td>\n",
       "      <td>0.7464</td>\n",
       "      <td>0.862301</td>\n",
       "      <td>0.6400</td>\n",
       "    </tr>\n",
       "    <tr>\n",
       "      <th>28</th>\n",
       "      <td>0.903715</td>\n",
       "      <td>0.7779</td>\n",
       "      <td>0.905219</td>\n",
       "      <td>0.6972</td>\n",
       "    </tr>\n",
       "    <tr>\n",
       "      <th>29</th>\n",
       "      <td>0.871011</td>\n",
       "      <td>0.7458</td>\n",
       "      <td>0.874396</td>\n",
       "      <td>0.6516</td>\n",
       "    </tr>\n",
       "  </tbody>\n",
       "</table>\n",
       "</div>"
      ],
      "text/plain": [
       "    Accuracy  Coverage  Precision  Recall\n",
       "0   0.910270    0.7712   0.915022  0.6956\n",
       "1   0.899871    0.7740   0.898718  0.7010\n",
       "2   0.913694    0.7821   0.914424  0.7202\n",
       "3   0.912349    0.7758   0.911986  0.7046\n",
       "4   0.913893    0.7781   0.912877  0.7146\n",
       "5   0.886707    0.7538   0.888560  0.6602\n",
       "6   0.911795    0.7800   0.910164  0.7092\n",
       "7   0.906214    0.7741   0.906797  0.7044\n",
       "8   0.902298    0.7615   0.905963  0.6898\n",
       "9   0.916645    0.7786   0.912424  0.7168\n",
       "10  0.909091    0.7733   0.911481  0.7002\n",
       "11  0.896229    0.7690   0.896894  0.6872\n",
       "12  0.918867    0.7876   0.920603  0.7212\n",
       "13  0.917785    0.7821   0.915787  0.7112\n",
       "14  0.922134    0.7834   0.924254  0.7248\n",
       "15  0.911049    0.7847   0.910478  0.7160\n",
       "16  0.870152    0.7478   0.870262  0.6520\n",
       "17  0.918283    0.7734   0.917034  0.7074\n",
       "18  0.867712    0.7529   0.872346  0.6492\n",
       "19  0.903469    0.7697   0.902368  0.6858\n",
       "20  0.894090    0.7648   0.889956  0.6858\n",
       "21  0.865143    0.7482   0.862808  0.6440\n",
       "22  0.857143    0.7441   0.858836  0.6376\n",
       "23  0.896307    0.7609   0.894421  0.6862\n",
       "24  0.897518    0.7533   0.894488  0.6816\n",
       "25  0.861617    0.7472   0.861637  0.6464\n",
       "26  0.903671    0.7682   0.903014  0.6890\n",
       "27  0.861736    0.7464   0.862301  0.6400\n",
       "28  0.903715    0.7779   0.905219  0.6972\n",
       "29  0.871011    0.7458   0.874396  0.6516"
      ]
     },
     "execution_count": 43,
     "metadata": {},
     "output_type": "execute_result"
    }
   ],
   "source": [
    "vf.train_gen_model()\n",
    "vf.gen_model.learned_lf_stats()"
   ]
  },
  {
   "cell_type": "code",
   "execution_count": 44,
   "metadata": {},
   "outputs": [
    {
     "data": {
      "image/png": "[encoded data removed]",
      "text/plain": [
       "<matplotlib.figure.Figure at 0x7fa34c4d52d0>"
      ]
     },
     "metadata": {},
     "output_type": "display_data"
    }
   ],
   "source": [
    "vf.assign_marginals()\n",
    "plt.hist(vf.train_marginals, bins=20)\n",
    "plt.show()"
   ]
  },
  {
   "cell_type": "code",
   "execution_count": 45,
   "metadata": {
    "scrolled": true
   },
   "outputs": [
    {
     "data": {
      "text/plain": [
       "0.745"
      ]
     },
     "execution_count": 45,
     "metadata": {},
     "output_type": "execute_result"
    }
   ],
   "source": [
    "vague_idx = vf.find_vague_points(b=0.6, thresh=0.15)\n",
    "incorrect_idx = vf.find_incorrect_points(b=0.6)\n",
    "#TODO call the function, print TP/FP/F1/P/R etc in pandas format\n",
    "1-np.shape(incorrect_idx)[1]/float(np.shape(val_ground)[0])"
   ]
  },
  {
   "cell_type": "code",
   "execution_count": null,
   "metadata": {},
   "outputs": [],
   "source": []
  }
 ],
 "metadata": {
  "kernelspec": {
   "display_name": "Python 2",
   "language": "python",
   "name": "python2"
  },
  "language_info": {
   "codemirror_mode": {
    "name": "ipython",
    "version": 2
   },
   "file_extension": ".py",
   "mimetype": "text/x-python",
   "name": "python",
   "nbconvert_exporter": "python",
   "pygments_lexer": "ipython2",
   "version": "2.7.13"
  }
 },
 "nbformat": 4,
 "nbformat_minor": 2
}
