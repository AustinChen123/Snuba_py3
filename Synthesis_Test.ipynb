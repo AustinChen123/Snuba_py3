{
 "cells": [
  {
   "cell_type": "code",
   "execution_count": 1,
   "metadata": {},
   "outputs": [
    {
     "name": "stdout",
     "output_type": "stream",
     "text": [
      "The autoreload extension is already loaded. To reload it, use:\n",
      "  %reload_ext autoreload\n"
     ]
    }
   ],
   "source": [
    "%load_ext autoreload\n",
    "%autoreload 2\n",
    "\n",
    "import numpy as np\n",
    "import matplotlib.pyplot as plt\n",
    "%matplotlib inline"
   ]
  },
  {
   "cell_type": "markdown",
   "metadata": {},
   "source": [
    "## Load Dataset"
   ]
  },
  {
   "cell_type": "code",
   "execution_count": 2,
   "metadata": {},
   "outputs": [],
   "source": [
    "dataset='bone_tumor'\n",
    "\n",
    "from loader import DataLoader\n",
    "dl = DataLoader()\n",
    "primitive_matrix, ground = dl.load_data(dataset=dataset)"
   ]
  },
  {
   "cell_type": "code",
   "execution_count": 3,
   "metadata": {},
   "outputs": [],
   "source": [
    "#TODO formalize\n",
    "train_primitive_matrix = primitive_matrix[0:400,:]\n",
    "train_ground = ground[0:400]\n",
    "\n",
    "val_primitive_matrix = primitive_matrix[400:600,:]\n",
    "val_ground = ground[400:600]"
   ]
  },
  {
   "cell_type": "markdown",
   "metadata": {},
   "source": [
    "## Synthesize Heuristics"
   ]
  },
  {
   "cell_type": "code",
   "execution_count": 28,
   "metadata": {},
   "outputs": [],
   "source": [
    "from program_synthesis.synthesizer import Synthesizer\n",
    "syn = Synthesizer(val_primitive_matrix, val_ground)"
   ]
  },
  {
   "cell_type": "code",
   "execution_count": 29,
   "metadata": {},
   "outputs": [],
   "source": [
    "hf, feat_combos = syn.generate_heuristics(cardinality=2)\n",
    "\n",
    "#optional pruning\n",
    "sort_idx = syn.prune_heuristics(hf,feat_combos, keep=10)\n",
    "hf = [hf[i] for i in sort_idx]\n",
    "feat_combos = [feat_combos[i] for i in sort_idx]"
   ]
  },
  {
   "cell_type": "code",
   "execution_count": 30,
   "metadata": {},
   "outputs": [],
   "source": [
    "X_train = train_primitive_matrix[:,feat_combos]\n",
    "L_train = syn.apply_heuristics(hf,X_train)\n",
    "\n",
    "X_val = val_primitive_matrix[:,feat_combos]\n",
    "L_val = syn.apply_heuristics(hf,X_val)"
   ]
  },
  {
   "cell_type": "markdown",
   "metadata": {},
   "source": [
    "## Verify Heuristics"
   ]
  },
  {
   "cell_type": "code",
   "execution_count": 31,
   "metadata": {},
   "outputs": [],
   "source": [
    "from program_synthesis.verifier import Verifier\n",
    "vf = Verifier(L_train, L_val, val_ground)"
   ]
  },
  {
   "cell_type": "code",
   "execution_count": 32,
   "metadata": {},
   "outputs": [
    {
     "name": "stdout",
     "output_type": "stream",
     "text": [
      "Inferred cardinality: 2\n"
     ]
    },
    {
     "data": {
      "text/html": [
       "<div>\n",
       "<style>\n",
       "    .dataframe thead tr:only-child th {\n",
       "        text-align: right;\n",
       "    }\n",
       "\n",
       "    .dataframe thead th {\n",
       "        text-align: left;\n",
       "    }\n",
       "\n",
       "    .dataframe tbody tr th {\n",
       "        vertical-align: top;\n",
       "    }\n",
       "</style>\n",
       "<table border=\"1\" class=\"dataframe\">\n",
       "  <thead>\n",
       "    <tr style=\"text-align: right;\">\n",
       "      <th></th>\n",
       "      <th>Accuracy</th>\n",
       "      <th>Coverage</th>\n",
       "      <th>Precision</th>\n",
       "      <th>Recall</th>\n",
       "    </tr>\n",
       "  </thead>\n",
       "  <tbody>\n",
       "    <tr>\n",
       "      <th>0</th>\n",
       "      <td>0.920793</td>\n",
       "      <td>0.7916</td>\n",
       "      <td>0.935788</td>\n",
       "      <td>0.728275</td>\n",
       "    </tr>\n",
       "    <tr>\n",
       "      <th>1</th>\n",
       "      <td>0.906660</td>\n",
       "      <td>0.7778</td>\n",
       "      <td>0.916029</td>\n",
       "      <td>0.703472</td>\n",
       "    </tr>\n",
       "    <tr>\n",
       "      <th>2</th>\n",
       "      <td>0.932859</td>\n",
       "      <td>0.8013</td>\n",
       "      <td>0.943577</td>\n",
       "      <td>0.743524</td>\n",
       "    </tr>\n",
       "    <tr>\n",
       "      <th>3</th>\n",
       "      <td>0.931692</td>\n",
       "      <td>0.7920</td>\n",
       "      <td>0.940410</td>\n",
       "      <td>0.742238</td>\n",
       "    </tr>\n",
       "    <tr>\n",
       "      <th>4</th>\n",
       "      <td>0.929202</td>\n",
       "      <td>0.7924</td>\n",
       "      <td>0.941038</td>\n",
       "      <td>0.733052</td>\n",
       "    </tr>\n",
       "    <tr>\n",
       "      <th>5</th>\n",
       "      <td>0.885755</td>\n",
       "      <td>0.7659</td>\n",
       "      <td>0.904103</td>\n",
       "      <td>0.672056</td>\n",
       "    </tr>\n",
       "    <tr>\n",
       "      <th>6</th>\n",
       "      <td>0.933484</td>\n",
       "      <td>0.7983</td>\n",
       "      <td>0.940959</td>\n",
       "      <td>0.749587</td>\n",
       "    </tr>\n",
       "    <tr>\n",
       "      <th>7</th>\n",
       "      <td>0.902909</td>\n",
       "      <td>0.7735</td>\n",
       "      <td>0.915409</td>\n",
       "      <td>0.701819</td>\n",
       "    </tr>\n",
       "    <tr>\n",
       "      <th>8</th>\n",
       "      <td>0.875903</td>\n",
       "      <td>0.7478</td>\n",
       "      <td>0.891798</td>\n",
       "      <td>0.657174</td>\n",
       "    </tr>\n",
       "    <tr>\n",
       "      <th>9</th>\n",
       "      <td>0.930996</td>\n",
       "      <td>0.7985</td>\n",
       "      <td>0.939944</td>\n",
       "      <td>0.741870</td>\n",
       "    </tr>\n",
       "  </tbody>\n",
       "</table>\n",
       "</div>"
      ],
      "text/plain": [
       "   Accuracy  Coverage  Precision    Recall\n",
       "0  0.920793    0.7916   0.935788  0.728275\n",
       "1  0.906660    0.7778   0.916029  0.703472\n",
       "2  0.932859    0.8013   0.943577  0.743524\n",
       "3  0.931692    0.7920   0.940410  0.742238\n",
       "4  0.929202    0.7924   0.941038  0.733052\n",
       "5  0.885755    0.7659   0.904103  0.672056\n",
       "6  0.933484    0.7983   0.940959  0.749587\n",
       "7  0.902909    0.7735   0.915409  0.701819\n",
       "8  0.875903    0.7478   0.891798  0.657174\n",
       "9  0.930996    0.7985   0.939944  0.741870"
      ]
     },
     "execution_count": 32,
     "metadata": {},
     "output_type": "execute_result"
    }
   ],
   "source": [
    "vf.train_gen_model()\n",
    "vf.gen_model.learned_lf_stats()"
   ]
  },
  {
   "cell_type": "code",
   "execution_count": 33,
   "metadata": {},
   "outputs": [
    {
     "data": {
      "image/png": "[encoded data removed]",
      "text/plain": [
       "<matplotlib.figure.Figure at 0x7fb7fdf94c90>"
      ]
     },
     "metadata": {},
     "output_type": "display_data"
    }
   ],
   "source": [
    "vf.assign_marginals()\n",
    "plt.hist(vf.train_marginals, bins=20)\n",
    "plt.show()"
   ]
  },
  {
   "cell_type": "code",
   "execution_count": 34,
   "metadata": {
    "scrolled": true
   },
   "outputs": [
    {
     "data": {
      "text/plain": [
       "0.745"
      ]
     },
     "execution_count": 34,
     "metadata": {},
     "output_type": "execute_result"
    }
   ],
   "source": [
    "vague_idx = vf.find_vague_points(b=0.6, thresh=0.2)\n",
    "incorrect_idx = vf.find_incorrect_points(b=0.6)\n",
    "#TODO call the function, print TP/FP/F1/P/R etc in pandas format\n",
    "1-np.shape(incorrect_idx)[0]/float(np.shape(val_ground)[0])"
   ]
  },
  {
   "cell_type": "markdown",
   "metadata": {},
   "source": [
    "## Re-Synthesize Labeling Functions"
   ]
  },
  {
   "cell_type": "code",
   "execution_count": 35,
   "metadata": {},
   "outputs": [],
   "source": [
    "special_idx = list(set(list(np.concatenate((vague_idx,incorrect_idx)))))"
   ]
  },
  {
   "cell_type": "code",
   "execution_count": 36,
   "metadata": {},
   "outputs": [],
   "source": [
    "syn = Synthesizer(val_primitive_matrix[special_idx,:], val_ground[special_idx])"
   ]
  },
  {
   "cell_type": "code",
   "execution_count": 37,
   "metadata": {},
   "outputs": [],
   "source": [
    "hf, feat_combos = syn.generate_heuristics(cardinality=1)"
   ]
  },
  {
   "cell_type": "code",
   "execution_count": 38,
   "metadata": {},
   "outputs": [],
   "source": [
    "#optional pruning\n",
    "sort_idx = syn.prune_heuristics(hf,feat_combos, keep=5)\n",
    "hf = [hf[i] for i in sort_idx]\n",
    "feat_combos = [feat_combos[i] for i in sort_idx]"
   ]
  },
  {
   "cell_type": "code",
   "execution_count": 39,
   "metadata": {},
   "outputs": [],
   "source": [
    "X_train = train_primitive_matrix[:,feat_combos]\n",
    "L_train_new = syn.apply_heuristics(hf,X_train)\n",
    "\n",
    "X_val = val_primitive_matrix[:,feat_combos]\n",
    "L_val_new = syn.apply_heuristics(hf,X_val)"
   ]
  },
  {
   "cell_type": "code",
   "execution_count": 40,
   "metadata": {},
   "outputs": [],
   "source": [
    "L_train_all = np.concatenate((L_train,L_train_new), axis=1)\n",
    "L_val_all = np.concatenate((L_val,L_val_new), axis=1)"
   ]
  },
  {
   "cell_type": "code",
   "execution_count": 41,
   "metadata": {},
   "outputs": [],
   "source": [
    "vf = Verifier(L_train_all, L_val_all, val_ground)"
   ]
  },
  {
   "cell_type": "code",
   "execution_count": 42,
   "metadata": {},
   "outputs": [
    {
     "name": "stdout",
     "output_type": "stream",
     "text": [
      "Inferred cardinality: 2\n"
     ]
    },
    {
     "data": {
      "text/html": [
       "<div>\n",
       "<style>\n",
       "    .dataframe thead tr:only-child th {\n",
       "        text-align: right;\n",
       "    }\n",
       "\n",
       "    .dataframe thead th {\n",
       "        text-align: left;\n",
       "    }\n",
       "\n",
       "    .dataframe tbody tr th {\n",
       "        vertical-align: top;\n",
       "    }\n",
       "</style>\n",
       "<table border=\"1\" class=\"dataframe\">\n",
       "  <thead>\n",
       "    <tr style=\"text-align: right;\">\n",
       "      <th></th>\n",
       "      <th>Accuracy</th>\n",
       "      <th>Coverage</th>\n",
       "      <th>Precision</th>\n",
       "      <th>Recall</th>\n",
       "    </tr>\n",
       "  </thead>\n",
       "  <tbody>\n",
       "    <tr>\n",
       "      <th>0</th>\n",
       "      <td>0.922743</td>\n",
       "      <td>0.7831</td>\n",
       "      <td>0.892752</td>\n",
       "      <td>0.727316</td>\n",
       "    </tr>\n",
       "    <tr>\n",
       "      <th>1</th>\n",
       "      <td>0.918808</td>\n",
       "      <td>0.7821</td>\n",
       "      <td>0.884945</td>\n",
       "      <td>0.718195</td>\n",
       "    </tr>\n",
       "    <tr>\n",
       "      <th>2</th>\n",
       "      <td>0.932772</td>\n",
       "      <td>0.7958</td>\n",
       "      <td>0.909357</td>\n",
       "      <td>0.746519</td>\n",
       "    </tr>\n",
       "    <tr>\n",
       "      <th>3</th>\n",
       "      <td>0.931173</td>\n",
       "      <td>0.7962</td>\n",
       "      <td>0.903424</td>\n",
       "      <td>0.740999</td>\n",
       "    </tr>\n",
       "    <tr>\n",
       "      <th>4</th>\n",
       "      <td>0.937116</td>\n",
       "      <td>0.7967</td>\n",
       "      <td>0.911697</td>\n",
       "      <td>0.755881</td>\n",
       "    </tr>\n",
       "    <tr>\n",
       "      <th>5</th>\n",
       "      <td>0.887454</td>\n",
       "      <td>0.7588</td>\n",
       "      <td>0.845155</td>\n",
       "      <td>0.672108</td>\n",
       "    </tr>\n",
       "    <tr>\n",
       "      <th>6</th>\n",
       "      <td>0.924204</td>\n",
       "      <td>0.7982</td>\n",
       "      <td>0.898251</td>\n",
       "      <td>0.739558</td>\n",
       "    </tr>\n",
       "    <tr>\n",
       "      <th>7</th>\n",
       "      <td>0.905626</td>\n",
       "      <td>0.7714</td>\n",
       "      <td>0.871386</td>\n",
       "      <td>0.694431</td>\n",
       "    </tr>\n",
       "    <tr>\n",
       "      <th>8</th>\n",
       "      <td>0.876925</td>\n",
       "      <td>0.7532</td>\n",
       "      <td>0.838133</td>\n",
       "      <td>0.663706</td>\n",
       "    </tr>\n",
       "    <tr>\n",
       "      <th>9</th>\n",
       "      <td>0.930360</td>\n",
       "      <td>0.7869</td>\n",
       "      <td>0.905425</td>\n",
       "      <td>0.733077</td>\n",
       "    </tr>\n",
       "    <tr>\n",
       "      <th>10</th>\n",
       "      <td>0.561104</td>\n",
       "      <td>0.6628</td>\n",
       "      <td>0.470221</td>\n",
       "      <td>0.361978</td>\n",
       "    </tr>\n",
       "    <tr>\n",
       "      <th>11</th>\n",
       "      <td>0.650789</td>\n",
       "      <td>0.6781</td>\n",
       "      <td>0.570407</td>\n",
       "      <td>0.440470</td>\n",
       "    </tr>\n",
       "    <tr>\n",
       "      <th>12</th>\n",
       "      <td>0.649073</td>\n",
       "      <td>0.6745</td>\n",
       "      <td>0.573291</td>\n",
       "      <td>0.432789</td>\n",
       "    </tr>\n",
       "    <tr>\n",
       "      <th>13</th>\n",
       "      <td>0.648633</td>\n",
       "      <td>0.6728</td>\n",
       "      <td>0.571208</td>\n",
       "      <td>0.444791</td>\n",
       "    </tr>\n",
       "    <tr>\n",
       "      <th>14</th>\n",
       "      <td>0.684586</td>\n",
       "      <td>0.6864</td>\n",
       "      <td>0.608025</td>\n",
       "      <td>0.472876</td>\n",
       "    </tr>\n",
       "  </tbody>\n",
       "</table>\n",
       "</div>"
      ],
      "text/plain": [
       "    Accuracy  Coverage  Precision    Recall\n",
       "0   0.922743    0.7831   0.892752  0.727316\n",
       "1   0.918808    0.7821   0.884945  0.718195\n",
       "2   0.932772    0.7958   0.909357  0.746519\n",
       "3   0.931173    0.7962   0.903424  0.740999\n",
       "4   0.937116    0.7967   0.911697  0.755881\n",
       "5   0.887454    0.7588   0.845155  0.672108\n",
       "6   0.924204    0.7982   0.898251  0.739558\n",
       "7   0.905626    0.7714   0.871386  0.694431\n",
       "8   0.876925    0.7532   0.838133  0.663706\n",
       "9   0.930360    0.7869   0.905425  0.733077\n",
       "10  0.561104    0.6628   0.470221  0.361978\n",
       "11  0.650789    0.6781   0.570407  0.440470\n",
       "12  0.649073    0.6745   0.573291  0.432789\n",
       "13  0.648633    0.6728   0.571208  0.444791\n",
       "14  0.684586    0.6864   0.608025  0.472876"
      ]
     },
     "execution_count": 42,
     "metadata": {},
     "output_type": "execute_result"
    }
   ],
   "source": [
    "vf.train_gen_model()\n",
    "vf.gen_model.learned_lf_stats()"
   ]
  },
  {
   "cell_type": "code",
   "execution_count": 43,
   "metadata": {},
   "outputs": [
    {
     "data": {
      "image/png": "[encoded data removed]",
      "text/plain": [
       "<matplotlib.figure.Figure at 0x7fb7fdeae550>"
      ]
     },
     "metadata": {},
     "output_type": "display_data"
    }
   ],
   "source": [
    "vf.assign_marginals()\n",
    "plt.hist(vf.train_marginals, bins=20)\n",
    "plt.show()"
   ]
  },
  {
   "cell_type": "code",
   "execution_count": 44,
   "metadata": {},
   "outputs": [
    {
     "data": {
      "text/plain": [
       "0.745"
      ]
     },
     "execution_count": 44,
     "metadata": {},
     "output_type": "execute_result"
    }
   ],
   "source": [
    "vague_idx = vf.find_vague_points(b=0.6, thresh=0.2)\n",
    "incorrect_idx = vf.find_incorrect_points(b=0.6)\n",
    "#TODO call the function, print TP/FP/F1/P/R etc in pandas format\n",
    "1-np.shape(incorrect_idx)[0]/float(np.shape(val_ground)[0])"
   ]
  },
  {
   "cell_type": "code",
   "execution_count": 45,
   "metadata": {},
   "outputs": [],
   "source": [
    "special_idx = list(set(list(np.concatenate((vague_idx,incorrect_idx)))))"
   ]
  },
  {
   "cell_type": "code",
   "execution_count": 46,
   "metadata": {},
   "outputs": [],
   "source": [
    "syn = Synthesizer(val_primitive_matrix[special_idx,:], val_ground[special_idx])\n",
    "hf, feat_combos = syn.generate_heuristics(cardinality=1)"
   ]
  },
  {
   "cell_type": "code",
   "execution_count": 47,
   "metadata": {},
   "outputs": [],
   "source": [
    "#optional pruning\n",
    "sort_idx = syn.prune_heuristics(hf,feat_combos, keep=3)\n",
    "hf = [hf[i] for i in sort_idx]\n",
    "feat_combos = [feat_combos[i] for i in sort_idx]"
   ]
  },
  {
   "cell_type": "code",
   "execution_count": 48,
   "metadata": {},
   "outputs": [],
   "source": [
    "X_train = train_primitive_matrix[:,feat_combos]\n",
    "L_train_new = syn.apply_heuristics(hf,X_train)\n",
    "\n",
    "X_val = val_primitive_matrix[:,feat_combos]\n",
    "L_val_new = syn.apply_heuristics(hf,X_val)"
   ]
  },
  {
   "cell_type": "code",
   "execution_count": 49,
   "metadata": {},
   "outputs": [],
   "source": [
    "L_train_all = np.concatenate((L_train_all,L_train_new), axis=1)\n",
    "L_val_all = np.concatenate((L_val_all,L_val_new), axis=1)"
   ]
  },
  {
   "cell_type": "code",
   "execution_count": 50,
   "metadata": {},
   "outputs": [
    {
     "name": "stdout",
     "output_type": "stream",
     "text": [
      "Inferred cardinality: 2\n"
     ]
    },
    {
     "data": {
      "image/png": "[encoded data removed]",
      "text/plain": [
       "<matplotlib.figure.Figure at 0x7fb7fdeaa510>"
      ]
     },
     "metadata": {},
     "output_type": "display_data"
    }
   ],
   "source": [
    "vf = Verifier(L_train_all, L_val_all, val_ground)\n",
    "\n",
    "vf.train_gen_model()\n",
    "vf.gen_model.learned_lf_stats()\n",
    "\n",
    "vf.assign_marginals()\n",
    "plt.hist(vf.train_marginals, bins=20)\n",
    "plt.show()"
   ]
  },
  {
   "cell_type": "code",
   "execution_count": 51,
   "metadata": {},
   "outputs": [
    {
     "data": {
      "text/plain": [
       "0.74"
      ]
     },
     "execution_count": 51,
     "metadata": {},
     "output_type": "execute_result"
    }
   ],
   "source": [
    "vague_idx = vf.find_vague_points(b=0.6, thresh=0.2)\n",
    "incorrect_idx = vf.find_incorrect_points(b=0.6)\n",
    "#TODO call the function, print TP/FP/F1/P/R etc in pandas format\n",
    "1-np.shape(incorrect_idx)[0]/float(np.shape(val_ground)[0])"
   ]
  },
  {
   "cell_type": "code",
   "execution_count": null,
   "metadata": {},
   "outputs": [],
   "source": []
  }
 ],
 "metadata": {
  "kernelspec": {
   "display_name": "Python 2",
   "language": "python",
   "name": "python2"
  },
  "language_info": {
   "codemirror_mode": {
    "name": "ipython",
    "version": 2
   },
   "file_extension": ".py",
   "mimetype": "text/x-python",
   "name": "python",
   "nbconvert_exporter": "python",
   "pygments_lexer": "ipython2",
   "version": "2.7.13"
  }
 },
 "nbformat": 4,
 "nbformat_minor": 2
}
