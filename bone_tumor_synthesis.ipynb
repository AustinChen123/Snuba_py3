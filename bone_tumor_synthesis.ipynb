{
 "cells": [
  {
   "cell_type": "code",
   "execution_count": 2,
   "metadata": {},
   "outputs": [
    {
     "name": "stdout",
     "output_type": "stream",
     "text": [
      "The autoreload extension is already loaded. To reload it, use:\n",
      "  %reload_ext autoreload\n"
     ]
    }
   ],
   "source": [
    "%load_ext autoreload\n",
    "%autoreload 2\n",
    "\n",
    "import numpy as np\n",
    "import matplotlib.pyplot as plt\n",
    "%matplotlib inline\n",
    "\n",
    "np.random.seed(1234)"
   ]
  },
  {
   "cell_type": "markdown",
   "metadata": {},
   "source": [
    "## Load Dataset"
   ]
  },
  {
   "cell_type": "code",
   "execution_count": 3,
   "metadata": {},
   "outputs": [],
   "source": [
    "dataset='bone_tumor'\n",
    "\n",
    "from loader import DataLoader\n",
    "dl = DataLoader()\n",
    "primitive_matrix, ground = dl.load_data(dataset=dataset)"
   ]
  },
  {
   "cell_type": "code",
   "execution_count": 4,
   "metadata": {},
   "outputs": [],
   "source": [
    "#TODO formalize\n",
    "train_primitive_matrix = primitive_matrix[0:400,:]\n",
    "train_ground = ground[0:400]\n",
    "\n",
    "val_primitive_matrix = primitive_matrix[400:600,:]\n",
    "val_ground = ground[400:600]"
   ]
  },
  {
   "cell_type": "markdown",
   "metadata": {},
   "source": [
    "## Simple Synthesis\n",
    "Generate functions of cardinality 1/2/3, plot results of top 3-20"
   ]
  },
  {
   "cell_type": "code",
   "execution_count": 5,
   "metadata": {},
   "outputs": [],
   "source": [
    "from heuristic_generator import HeuristicGenerator"
   ]
  },
  {
   "cell_type": "code",
   "execution_count": 16,
   "metadata": {},
   "outputs": [
    {
     "name": "stdout",
     "output_type": "stream",
     "text": [
      "Inferred cardinality: 2\n",
      "Inferred cardinality: 2\n",
      "Inferred cardinality: 2\n",
      "Inferred cardinality: 2\n",
      "Inferred cardinality: 2\n",
      "Inferred cardinality: 2\n",
      "Inferred cardinality: 2\n",
      "Inferred cardinality: 2\n",
      "Inferred cardinality: 2\n",
      "Inferred cardinality: 2\n",
      "Inferred cardinality: 2\n",
      "Inferred cardinality: 2\n",
      "Inferred cardinality: 2\n",
      "Inferred cardinality: 2\n",
      "Inferred cardinality: 2\n"
     ]
    }
   ],
   "source": [
    "validation_accuracy = []\n",
    "training_accuracy = []\n",
    "for i in range(3,18):\n",
    "    hg = HeuristicGenerator(train_primitive_matrix, val_primitive_matrix, \n",
    "                            val_ground, train_ground, 0.6)\n",
    "        \n",
    "    hg.run_synthesizer(cardinality=3, keep=i)\n",
    "    hg.run_verifier()\n",
    "    \n",
    "    va,ta = hg.evaluate()\n",
    "    validation_accuracy.append(va)\n",
    "    training_accuracy.append(ta)"
   ]
  },
  {
   "cell_type": "code",
   "execution_count": 17,
   "metadata": {},
   "outputs": [
    {
     "data": {
      "text/plain": [
       "<matplotlib.text.Text at 0x7f1369e72590>"
      ]
     },
     "execution_count": 17,
     "metadata": {},
     "output_type": "execute_result"
    },
    {
     "data": {
      "image/png": "[encoded data removed]",
      "text/plain": [
       "<matplotlib.figure.Figure at 0x7f1369f62b10>"
      ]
     },
     "metadata": {},
     "output_type": "display_data"
    }
   ],
   "source": [
    "plt.plot(range(3,18),validation_accuracy)\n",
    "plt.plot(range(3,18),training_accuracy)\n",
    "plt.legend(['Validation Set Accuracy', 'Training Set Accuracy'])\n",
    "plt.xlabel('Number of Heuristics')\n",
    "plt.ylabel('Accuracy')\n",
    "plt.title('Bone Tumor - Cardinality 3')"
   ]
  },
  {
   "cell_type": "markdown",
   "metadata": {},
   "source": [
    "## Synthesis + Verification\n",
    "Generate functions based on feedback from the verifier (vary cardinality)"
   ]
  },
  {
   "cell_type": "code",
   "execution_count": 31,
   "metadata": {},
   "outputs": [
    {
     "name": "stdout",
     "output_type": "stream",
     "text": [
      "Inferred cardinality: 2\n",
      "In fb  (400, 3)\n",
      "Inferred cardinality: 2\n",
      "In fb  (400, 4)\n",
      "Inferred cardinality: 2\n",
      "In fb  (400, 5)\n",
      "Inferred cardinality: 2\n",
      "In fb  (400, 6)\n",
      "Inferred cardinality: 2\n",
      "In fb  (400, 7)\n",
      "Inferred cardinality: 2\n",
      "In fb  (400, 8)\n",
      "Inferred cardinality: 2\n",
      "In fb  (400, 9)\n",
      "Inferred cardinality: 2\n",
      "In fb  (400, 10)\n",
      "Inferred cardinality: 2\n",
      "In fb  (400, 11)\n",
      "Inferred cardinality: 2\n",
      "In fb  (400, 12)\n",
      "Inferred cardinality: 2\n",
      "In fb  (400, 13)\n",
      "Inferred cardinality: 2\n",
      "In fb  (400, 14)\n",
      "Inferred cardinality: 2\n",
      "In fb  (400, 15)\n",
      "Inferred cardinality: 2\n",
      "In fb  (400, 16)\n",
      "Inferred cardinality: 2\n",
      "In fb  (400, 17)\n"
     ]
    }
   ],
   "source": [
    "validation_accuracy = []\n",
    "training_accuracy = []\n",
    "idx = None\n",
    "\n",
    "hg = HeuristicGenerator(train_primitive_matrix, val_primitive_matrix, \n",
    "                            val_ground, train_ground, 0.6)\n",
    "for i in range(3,18):\n",
    "    if i == 3:\n",
    "        hg.run_synthesizer(cardinality=3, idx=idx, keep=3)\n",
    "    else:\n",
    "        hg.run_synthesizer(cardinality=3, idx=idx, keep=1)\n",
    "    hg.run_verifier()\n",
    "    \n",
    "    va,ta = hg.evaluate()\n",
    "    validation_accuracy.append(va)\n",
    "    training_accuracy.append(ta)\n",
    "    \n",
    "    hg.find_feedback(thresh=0.35)\n",
    "    idx = hg.feedback_idx\n",
    "    \n",
    "    #print idx"
   ]
  },
  {
   "cell_type": "code",
   "execution_count": 32,
   "metadata": {},
   "outputs": [
    {
     "data": {
      "text/plain": [
       "<matplotlib.text.Text at 0x7f1369846650>"
      ]
     },
     "execution_count": 32,
     "metadata": {},
     "output_type": "execute_result"
    },
    {
     "data": {
      "image/png": "[encoded data removed]",
      "text/plain": [
       "<matplotlib.figure.Figure at 0x7f13698d2890>"
      ]
     },
     "metadata": {},
     "output_type": "display_data"
    }
   ],
   "source": [
    "plt.plot(range(3,18),validation_accuracy)\n",
    "plt.plot(range(3,18),training_accuracy)\n",
    "plt.legend(['Validation Set Accuracy', 'Training Set Accuracy'])\n",
    "plt.xlabel('Number of Heuristics')\n",
    "plt.ylabel('Accuracy')\n",
    "plt.title('Bone Tumor - Cardinality 3')"
   ]
  },
  {
   "cell_type": "code",
   "execution_count": null,
   "metadata": {},
   "outputs": [],
   "source": []
  }
 ],
 "metadata": {
  "kernelspec": {
   "display_name": "Python 2",
   "language": "python",
   "name": "python2"
  },
  "language_info": {
   "codemirror_mode": {
    "name": "ipython",
    "version": 2
   },
   "file_extension": ".py",
   "mimetype": "text/x-python",
   "name": "python",
   "nbconvert_exporter": "python",
   "pygments_lexer": "ipython2",
   "version": "2.7.13"
  }
 },
 "nbformat": 4,
 "nbformat_minor": 2
}
