{
 "cells": [
  {
   "cell_type": "code",
   "execution_count": 1,
   "metadata": {},
   "outputs": [
    {
     "name": "stdout",
     "output_type": "stream",
     "text": [
      "The autoreload extension is already loaded. To reload it, use:\n",
      "  %reload_ext autoreload\n"
     ]
    }
   ],
   "source": [
    "%load_ext autoreload\n",
    "%autoreload 2\n",
    "\n",
    "import numpy as np\n",
    "import matplotlib.pyplot as plt\n",
    "%matplotlib inline"
   ]
  },
  {
   "cell_type": "markdown",
   "metadata": {},
   "source": [
    "## Load Dataset"
   ]
  },
  {
   "cell_type": "code",
   "execution_count": 2,
   "metadata": {},
   "outputs": [],
   "source": [
    "dataset='mammogram'\n",
    "\n",
    "from data.loader import DataLoader\n",
    "dl = DataLoader()\n",
    "train_primitive_matrix, val_primitive_matrix, test_primitive_matrix, \\\n",
    "train_ground, val_ground, test_ground = dl.load_data(dataset=dataset)"
   ]
  },
  {
   "cell_type": "markdown",
   "metadata": {},
   "source": [
    "## Synthesis + Verification\n",
    "Generate functions based on feedback from the verifier (vary cardinality)"
   ]
  },
  {
   "cell_type": "code",
   "execution_count": 3,
   "metadata": {},
   "outputs": [],
   "source": [
    "#import time\n",
    "#start = time.time()\n",
    "\n",
    "from program_synthesis.heuristic_generator import HeuristicGenerator\n",
    "validation_accuracy = []\n",
    "training_accuracy = []\n",
    "validation_coverage = []\n",
    "training_coverage = []\n",
    "idx = None\n",
    "\n",
    "hg = HeuristicGenerator(train_primitive_matrix, val_primitive_matrix, \n",
    "                            val_ground, train_ground, \n",
    "                            b=0.5)\n",
    "for i in range(3,20):\n",
    "    if i == 3:\n",
    "        hg.run_synthesizer(max_cardinality=2, idx=idx, keep=3, model='dt')\n",
    "    else:\n",
    "        hg.run_synthesizer(max_cardinality=2, idx=idx, keep=1, model='dt')\n",
    "    hg.run_verifier()\n",
    "    \n",
    "    va,ta, vc, tc = hg.evaluate()\n",
    "    validation_accuracy.append(va)\n",
    "    training_accuracy.append(ta)\n",
    "    validation_coverage.append(vc)\n",
    "    training_coverage.append(tc)\n",
    "    \n",
    "    hg.find_feedback()\n",
    "    idx = hg.feedback_idx    \n",
    "\n",
    "    #print 'Time Elapsed: ', time.time() - start"
   ]
  },
  {
   "cell_type": "markdown",
   "metadata": {},
   "source": [
    "### Visualize Heuristic Behavior"
   ]
  },
  {
   "cell_type": "code",
   "execution_count": 25,
   "metadata": {},
   "outputs": [
    {
     "data": {
      "text/html": [
       "<div>\n",
       "<style>\n",
       "    .dataframe thead tr:only-child th {\n",
       "        text-align: right;\n",
       "    }\n",
       "\n",
       "    .dataframe thead th {\n",
       "        text-align: left;\n",
       "    }\n",
       "\n",
       "    .dataframe tbody tr th {\n",
       "        vertical-align: top;\n",
       "    }\n",
       "</style>\n",
       "<table border=\"1\" class=\"dataframe\">\n",
       "  <thead>\n",
       "    <tr style=\"text-align: right;\">\n",
       "      <th></th>\n",
       "      <th>Feat 1</th>\n",
       "      <th>Feat 2</th>\n",
       "      <th>Val Acc</th>\n",
       "      <th>Train Acc</th>\n",
       "      <th>Val Cov</th>\n",
       "      <th>Train Cov</th>\n",
       "    </tr>\n",
       "  </thead>\n",
       "  <tbody>\n",
       "    <tr>\n",
       "      <th>0</th>\n",
       "      <td>0.0</td>\n",
       "      <td>5.0</td>\n",
       "      <td>0.645161</td>\n",
       "      <td>0.547715</td>\n",
       "      <td>0.231183</td>\n",
       "      <td>0.168011</td>\n",
       "    </tr>\n",
       "    <tr>\n",
       "      <th>1</th>\n",
       "      <td>2.0</td>\n",
       "      <td>5.0</td>\n",
       "      <td>0.645161</td>\n",
       "      <td>0.547715</td>\n",
       "      <td>0.231183</td>\n",
       "      <td>0.168011</td>\n",
       "    </tr>\n",
       "    <tr>\n",
       "      <th>2</th>\n",
       "      <td>6.0</td>\n",
       "      <td>8.0</td>\n",
       "      <td>0.580645</td>\n",
       "      <td>0.550403</td>\n",
       "      <td>0.188172</td>\n",
       "      <td>0.196237</td>\n",
       "    </tr>\n",
       "    <tr>\n",
       "      <th>3</th>\n",
       "      <td>3.0</td>\n",
       "      <td>4.0</td>\n",
       "      <td>0.521505</td>\n",
       "      <td>0.515457</td>\n",
       "      <td>0.198925</td>\n",
       "      <td>0.211022</td>\n",
       "    </tr>\n",
       "    <tr>\n",
       "      <th>4</th>\n",
       "      <td>3.0</td>\n",
       "      <td>7.0</td>\n",
       "      <td>0.591398</td>\n",
       "      <td>0.496640</td>\n",
       "      <td>0.112903</td>\n",
       "      <td>0.126344</td>\n",
       "    </tr>\n",
       "    <tr>\n",
       "      <th>5</th>\n",
       "      <td>5.0</td>\n",
       "      <td>9.0</td>\n",
       "      <td>0.586022</td>\n",
       "      <td>0.530914</td>\n",
       "      <td>0.107527</td>\n",
       "      <td>0.081317</td>\n",
       "    </tr>\n",
       "    <tr>\n",
       "      <th>6</th>\n",
       "      <td>2.0</td>\n",
       "      <td>8.0</td>\n",
       "      <td>0.543011</td>\n",
       "      <td>0.513441</td>\n",
       "      <td>0.091398</td>\n",
       "      <td>0.071909</td>\n",
       "    </tr>\n",
       "    <tr>\n",
       "      <th>7</th>\n",
       "      <td>4.0</td>\n",
       "      <td>7.0</td>\n",
       "      <td>0.548387</td>\n",
       "      <td>0.508065</td>\n",
       "      <td>0.193548</td>\n",
       "      <td>0.192876</td>\n",
       "    </tr>\n",
       "    <tr>\n",
       "      <th>8</th>\n",
       "      <td>1.0</td>\n",
       "      <td>3.0</td>\n",
       "      <td>0.559140</td>\n",
       "      <td>0.516129</td>\n",
       "      <td>0.220430</td>\n",
       "      <td>0.250672</td>\n",
       "    </tr>\n",
       "    <tr>\n",
       "      <th>9</th>\n",
       "      <td>4.0</td>\n",
       "      <td>5.0</td>\n",
       "      <td>0.521505</td>\n",
       "      <td>0.515457</td>\n",
       "      <td>0.290323</td>\n",
       "      <td>0.309812</td>\n",
       "    </tr>\n",
       "    <tr>\n",
       "      <th>10</th>\n",
       "      <td>5.0</td>\n",
       "      <td>6.0</td>\n",
       "      <td>0.564516</td>\n",
       "      <td>0.510081</td>\n",
       "      <td>0.193548</td>\n",
       "      <td>0.205645</td>\n",
       "    </tr>\n",
       "    <tr>\n",
       "      <th>11</th>\n",
       "      <td>5.0</td>\n",
       "      <td>7.0</td>\n",
       "      <td>0.596774</td>\n",
       "      <td>0.557124</td>\n",
       "      <td>0.134409</td>\n",
       "      <td>0.133737</td>\n",
       "    </tr>\n",
       "    <tr>\n",
       "      <th>12</th>\n",
       "      <td>5.0</td>\n",
       "      <td>8.0</td>\n",
       "      <td>0.564516</td>\n",
       "      <td>0.509409</td>\n",
       "      <td>0.166667</td>\n",
       "      <td>0.229839</td>\n",
       "    </tr>\n",
       "    <tr>\n",
       "      <th>13</th>\n",
       "      <td>7.0</td>\n",
       "      <td>8.0</td>\n",
       "      <td>0.553763</td>\n",
       "      <td>0.484543</td>\n",
       "      <td>0.231183</td>\n",
       "      <td>0.245296</td>\n",
       "    </tr>\n",
       "    <tr>\n",
       "      <th>14</th>\n",
       "      <td>4.0</td>\n",
       "      <td>5.0</td>\n",
       "      <td>0.580645</td>\n",
       "      <td>0.532258</td>\n",
       "      <td>0.134409</td>\n",
       "      <td>0.133737</td>\n",
       "    </tr>\n",
       "    <tr>\n",
       "      <th>15</th>\n",
       "      <td>3.0</td>\n",
       "      <td>7.0</td>\n",
       "      <td>0.580645</td>\n",
       "      <td>0.504032</td>\n",
       "      <td>0.107527</td>\n",
       "      <td>0.106183</td>\n",
       "    </tr>\n",
       "    <tr>\n",
       "      <th>16</th>\n",
       "      <td>3.0</td>\n",
       "      <td>7.0</td>\n",
       "      <td>0.607527</td>\n",
       "      <td>0.548387</td>\n",
       "      <td>0.241935</td>\n",
       "      <td>0.270161</td>\n",
       "    </tr>\n",
       "    <tr>\n",
       "      <th>17</th>\n",
       "      <td>2.0</td>\n",
       "      <td>5.0</td>\n",
       "      <td>0.607527</td>\n",
       "      <td>0.524194</td>\n",
       "      <td>0.118280</td>\n",
       "      <td>0.109543</td>\n",
       "    </tr>\n",
       "    <tr>\n",
       "      <th>18</th>\n",
       "      <td>5.0</td>\n",
       "      <td>6.0</td>\n",
       "      <td>0.564516</td>\n",
       "      <td>0.510081</td>\n",
       "      <td>0.188172</td>\n",
       "      <td>0.201613</td>\n",
       "    </tr>\n",
       "  </tbody>\n",
       "</table>\n",
       "</div>"
      ],
      "text/plain": [
       "    Feat 1  Feat 2   Val Acc  Train Acc   Val Cov  Train Cov\n",
       "0      0.0     5.0  0.645161   0.547715  0.231183   0.168011\n",
       "1      2.0     5.0  0.645161   0.547715  0.231183   0.168011\n",
       "2      6.0     8.0  0.580645   0.550403  0.188172   0.196237\n",
       "3      3.0     4.0  0.521505   0.515457  0.198925   0.211022\n",
       "4      3.0     7.0  0.591398   0.496640  0.112903   0.126344\n",
       "5      5.0     9.0  0.586022   0.530914  0.107527   0.081317\n",
       "6      2.0     8.0  0.543011   0.513441  0.091398   0.071909\n",
       "7      4.0     7.0  0.548387   0.508065  0.193548   0.192876\n",
       "8      1.0     3.0  0.559140   0.516129  0.220430   0.250672\n",
       "9      4.0     5.0  0.521505   0.515457  0.290323   0.309812\n",
       "10     5.0     6.0  0.564516   0.510081  0.193548   0.205645\n",
       "11     5.0     7.0  0.596774   0.557124  0.134409   0.133737\n",
       "12     5.0     8.0  0.564516   0.509409  0.166667   0.229839\n",
       "13     7.0     8.0  0.553763   0.484543  0.231183   0.245296\n",
       "14     4.0     5.0  0.580645   0.532258  0.134409   0.133737\n",
       "15     3.0     7.0  0.580645   0.504032  0.107527   0.106183\n",
       "16     3.0     7.0  0.607527   0.548387  0.241935   0.270161\n",
       "17     2.0     5.0  0.607527   0.524194  0.118280   0.109543\n",
       "18     5.0     6.0  0.564516   0.510081  0.188172   0.201613"
      ]
     },
     "execution_count": 25,
     "metadata": {},
     "output_type": "execute_result"
    }
   ],
   "source": [
    "hg.heuristic_stats()"
   ]
  },
  {
   "cell_type": "code",
   "execution_count": 17,
   "metadata": {},
   "outputs": [
    {
     "data": {
      "text/plain": [
       "<matplotlib.text.Text at 0x7f6f7113ca90>"
      ]
     },
     "execution_count": 17,
     "metadata": {},
     "output_type": "execute_result"
    },
    {
     "data": {
      "image/png": "[encoded data removed]",
      "text/plain": [
       "<matplotlib.figure.Figure at 0x7f6f71346f90>"
      ]
     },
     "metadata": {},
     "output_type": "display_data"
    }
   ],
   "source": [
    "plt.figure(figsize=(12,4))\n",
    "plt.subplot(1,2,1)\n",
    "plt.plot(range(3,20),validation_accuracy, color='C0')\n",
    "plt.plot(range(3,20),training_accuracy, color='C1')\n",
    "plt.plot(range(3,20),validation_coverage, color='C0', linestyle='--')\n",
    "plt.plot(range(3,20),training_coverage, color='C1', linestyle='--')\n",
    "plt.legend(['Validation Set', 'Training Set'])\n",
    "plt.xlabel('Number of Heuristics')\n",
    "plt.ylabel('Accuracy and Coverage')\n",
    "#plt.ylim([0.55,1.0])\n",
    "\n",
    "plt.subplot(1,2,2)\n",
    "bm = [(a*b) + (0.5*(1-b)) for a,b in zip(validation_accuracy,validation_coverage)] \n",
    "plt.plot(range(3,20),bm, color='C0')\n",
    "bm = [(a*b) + (0.5*(1-b)) for a,b in zip(training_accuracy,training_coverage)] \n",
    "plt.plot(range(3,20),bm, color='C1')\n",
    "plt.legend(['Validation Set', 'Training Set'])\n",
    "plt.xlabel('Number of Heuristics')\n",
    "plt.ylabel('Accuracy and Coverage')\n",
    "#plt.ylim([0.55,1.0])\n",
    "plt.suptitle('Dataset: ' + dataset)"
   ]
  },
  {
   "cell_type": "code",
   "execution_count": 18,
   "metadata": {},
   "outputs": [
    {
     "name": "stdout",
     "output_type": "stream",
     "text": [
      "Program Synthesis Train Accuracy:  0.569847856155\n",
      "Program Synthesis Validation Accuracy:  0.865671641791\n"
     ]
    }
   ],
   "source": [
    "print \"Program Synthesis Train Accuracy: \", np.max(training_accuracy[1:])\n",
    "print \"Program Synthesis Validation Accuracy: \", np.max(validation_accuracy[1:])"
   ]
  },
  {
   "cell_type": "markdown",
   "metadata": {},
   "source": [
    "## Calculate Baselines"
   ]
  },
  {
   "cell_type": "markdown",
   "metadata": {},
   "source": [
    "[**Decision Tree**](http://scikit-learn.org/stable/modules/generated/sklearn.tree.DecisionTreeClassifier.html#sklearn.tree.DecisionTreeClassifier)\n",
    "Depth bound is unbounded, using default settings. Could do a finer comparison if needed."
   ]
  },
  {
   "cell_type": "code",
   "execution_count": 19,
   "metadata": {},
   "outputs": [
    {
     "name": "stdout",
     "output_type": "stream",
     "text": [
      "Decision Tree Train Accuracy:  0.6275\n",
      "Decision Tree Validation Accuracy:  1.0\n"
     ]
    }
   ],
   "source": [
    "from baselines.models import DecisionTree\n",
    "dt = DecisionTree(train_primitive_matrix, val_primitive_matrix, \n",
    "                            val_ground, train_ground)\n",
    "dt.fit()\n",
    "va,ta, vc, tc = dt.evaluate()\n",
    "print \"Decision Tree Train Accuracy: \", ta\n",
    "print \"Decision Tree Validation Accuracy: \", va"
   ]
  },
  {
   "cell_type": "markdown",
   "metadata": {},
   "source": [
    "[**Boosting (AdaBoost)**](http://scikit-learn.org/stable/modules/generated/sklearn.ensemble.AdaBoostClassifier.html#sklearn.ensemble.AdaBoostClassifier) No bound of the number of estimators yet, could bound by number of primitives for \"fair\" comparison?"
   ]
  },
  {
   "cell_type": "code",
   "execution_count": 20,
   "metadata": {},
   "outputs": [
    {
     "name": "stdout",
     "output_type": "stream",
     "text": [
      "Boosting Train Accuracy:  0.6025\n",
      "Boosting Validation Accuracy:  0.99\n"
     ]
    }
   ],
   "source": [
    "from baselines.models import BoostClassifier\n",
    "bc = BoostClassifier(train_primitive_matrix, val_primitive_matrix, \n",
    "                            val_ground, train_ground)\n",
    "bc.fit()\n",
    "va,ta, vc, tc = bc.evaluate()\n",
    "print \"Boosting Train Accuracy: \", ta\n",
    "print \"Boosting Validation Accuracy: \", va"
   ]
  },
  {
   "cell_type": "markdown",
   "metadata": {},
   "source": [
    "[**LabelPropagation (Normal Semi-Supervised)**](http://scikit-learn.org/stable/modules/generated/sklearn.semi_supervised.LabelSpreading.html#sklearn.semi_supervised.LabelSpreading)\n",
    "Semi-supervised method that is robust to noise. Fits with both the labeled and unlabeled examples"
   ]
  },
  {
   "cell_type": "code",
   "execution_count": 21,
   "metadata": {},
   "outputs": [
    {
     "name": "stdout",
     "output_type": "stream",
     "text": [
      "SemiSupervised Train Accuracy:  0.65\n",
      "SemiSupervised Validation Accuracy:  0.845\n"
     ]
    }
   ],
   "source": [
    "from baselines.models import SemiSupervised\n",
    "ss = SemiSupervised(train_primitive_matrix, val_primitive_matrix, \n",
    "                            val_ground, train_ground)\n",
    "ss.fit()\n",
    "va,ta, vc, tc = ss.evaluate()\n",
    "print \"SemiSupervised Train Accuracy: \", ta\n",
    "print \"SemiSupervised Validation Accuracy: \", va"
   ]
  },
  {
   "cell_type": "markdown",
   "metadata": {},
   "source": [
    "[**CPLE (Pessimistic Likelihood Estimation for Semi-Supervised)**](https://github.com/tmadl/semisup-learn) Based on the [model](https://arxiv.org/abs/1503.00269) that guarantees that adding in the unlabeled data points will not worsen only training with labeled examples"
   ]
  },
  {
   "cell_type": "code",
   "execution_count": 22,
   "metadata": {},
   "outputs": [
    {
     "name": "stderr",
     "output_type": "stream",
     "text": [
      "/dfs/scratch0/paroma/anaconda2/envs/babble/lib/python2.7/site-packages/sklearn/linear_model/stochastic_gradient.py:84: FutureWarning: max_iter and tol parameters have been added in <class 'sklearn.linear_model.stochastic_gradient.SGDClassifier'> in 0.19. If both are left unset, they default to max_iter=5 and tol=None. If tol is not None, max_iter defaults to max_iter=1000. From 0.21, default max_iter will be 1000, and default tol will be 1e-3.\n",
      "  \"and default tol will be 1e-3.\" % type(self), FutureWarning)\n"
     ]
    },
    {
     "name": "stdout",
     "output_type": "stream",
     "text": [
      "n...nn converged.\n",
      "ContrastiveSemiSupervised Train Accuracy:  0.625\n",
      "ContrastiveSemiSupervised Validation Accuracy:  0.615\n"
     ]
    }
   ],
   "source": [
    "from baselines.models import ContrastiveSemiSupervised\n",
    "css = ContrastiveSemiSupervised(train_primitive_matrix, val_primitive_matrix, \n",
    "                            val_ground, train_ground)\n",
    "css.fit()\n",
    "va,ta, vc, tc = css.evaluate()\n",
    "print \"ContrastiveSemiSupervised Train Accuracy: \", ta\n",
    "print \"ContrastiveSemiSupervised Validation Accuracy: \", va"
   ]
  },
  {
   "cell_type": "code",
   "execution_count": null,
   "metadata": {},
   "outputs": [],
   "source": []
  }
 ],
 "metadata": {
  "kernelspec": {
   "display_name": "Python 2",
   "language": "python",
   "name": "python2"
  },
  "language_info": {
   "codemirror_mode": {
    "name": "ipython",
    "version": 2
   },
   "file_extension": ".py",
   "mimetype": "text/x-python",
   "name": "python",
   "nbconvert_exporter": "python",
   "pygments_lexer": "ipython2",
   "version": "2.7.13"
  }
 },
 "nbformat": 4,
 "nbformat_minor": 2
}
