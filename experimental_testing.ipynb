{
 "cells": [
  {
   "cell_type": "code",
   "execution_count": 1,
   "metadata": {},
   "outputs": [
    {
     "name": "stdout",
     "output_type": "stream",
     "text": [
      "The autoreload extension is already loaded. To reload it, use:\n",
      "  %reload_ext autoreload\n"
     ]
    }
   ],
   "source": [
    "%load_ext autoreload\n",
    "%autoreload 2\n",
    "\n",
    "import numpy as np\n",
    "import matplotlib.pyplot as plt\n",
    "%matplotlib inline"
   ]
  },
  {
   "cell_type": "markdown",
   "metadata": {},
   "source": [
    "## Load Dataset"
   ]
  },
  {
   "cell_type": "code",
   "execution_count": 2,
   "metadata": {},
   "outputs": [],
   "source": [
    "dataset='mobile_mb'\n",
    "\n",
    "from data.loader import DataLoader\n",
    "dl = DataLoader()\n",
    "train_primitive_matrix, val_primitive_matrix, test_primitive_matrix, \\\n",
    "train_ground, val_ground, test_ground = dl.load_data(dataset=dataset)"
   ]
  },
  {
   "cell_type": "markdown",
   "metadata": {},
   "source": [
    "## Synthesis + Verification\n",
    "Generate functions based on feedback from the verifier (vary cardinality)"
   ]
  },
  {
   "cell_type": "code",
   "execution_count": 3,
   "metadata": {},
   "outputs": [
    {
     "name": "stdout",
     "output_type": "stream",
     "text": [
      "Inferred cardinality: 2\n",
      "Inferred cardinality: 2\n",
      "Inferred cardinality: 2\n",
      "Inferred cardinality: 2\n",
      "Inferred cardinality: 2\n",
      "Inferred cardinality: 2\n",
      "Inferred cardinality: 2\n",
      "Inferred cardinality: 2\n",
      "Inferred cardinality: 2\n",
      "Inferred cardinality: 2\n",
      "Inferred cardinality: 2\n",
      "Inferred cardinality: 2\n",
      "Inferred cardinality: 2\n",
      "Inferred cardinality: 2\n",
      "Inferred cardinality: 2\n",
      "Inferred cardinality: 2\n",
      "Inferred cardinality: 2\n"
     ]
    }
   ],
   "source": [
    "#import time\n",
    "#start = time.time()\n",
    "\n",
    "from program_synthesis.heuristic_generator import HeuristicGenerator\n",
    "validation_accuracy = []\n",
    "training_accuracy = []\n",
    "validation_coverage = []\n",
    "training_coverage = []\n",
    "idx = None\n",
    "\n",
    "hg = HeuristicGenerator(train_primitive_matrix, val_primitive_matrix, \n",
    "                            val_ground, train_ground, \n",
    "                            b=0.5)\n",
    "for i in range(3,20):\n",
    "    if i == 3:\n",
    "        hg.run_synthesizer(max_cardinality=2, idx=idx, keep=3, model='dt')\n",
    "    else:\n",
    "        hg.run_synthesizer(max_cardinality=2, idx=idx, keep=1, model='dt')\n",
    "    hg.run_verifier()\n",
    "    \n",
    "    va,ta, vc, tc = hg.evaluate()\n",
    "    validation_accuracy.append(va)\n",
    "    training_accuracy.append(ta)\n",
    "    validation_coverage.append(vc)\n",
    "    training_coverage.append(tc)\n",
    "    \n",
    "    #hg.find_feedback()\n",
    "    #idx = hg.feedback_idx    \n",
    "\n",
    "    #print 'Time Elapsed: ', time.time() - start"
   ]
  },
  {
   "cell_type": "code",
   "execution_count": 4,
   "metadata": {},
   "outputs": [
    {
     "data": {
      "text/plain": [
       "<matplotlib.text.Text at 0x7f1c27504f50>"
      ]
     },
     "execution_count": 4,
     "metadata": {},
     "output_type": "execute_result"
    },
    {
     "data": {
      "image/png": "[encoded data removed]",
      "text/plain": [
       "<matplotlib.figure.Figure at 0x7f1c2760dcd0>"
      ]
     },
     "metadata": {},
     "output_type": "display_data"
    }
   ],
   "source": [
    "plt.figure(figsize=(12,4))\n",
    "plt.subplot(1,2,1)\n",
    "plt.plot(range(3,20),validation_accuracy, color='C0')\n",
    "plt.plot(range(3,20),training_accuracy, color='C1')\n",
    "plt.plot(range(3,20),validation_coverage, color='C0', linestyle='--')\n",
    "plt.plot(range(3,20),training_coverage, color='C1', linestyle='--')\n",
    "plt.legend(['Validation Set', 'Training Set'])\n",
    "plt.xlabel('Number of Heuristics')\n",
    "plt.ylabel('Accuracy and Coverage')\n",
    "#plt.ylim([0.55,1.0])\n",
    "\n",
    "plt.subplot(1,2,2)\n",
    "bm = [(a*b) + (0.5*(1-b)) for a,b in zip(validation_accuracy,validation_coverage)] \n",
    "plt.plot(range(3,20),bm, color='C0')\n",
    "bm = [(a*b) + (0.5*(1-b)) for a,b in zip(training_accuracy,training_coverage)] \n",
    "plt.plot(range(3,20),bm, color='C1')\n",
    "plt.legend(['Validation Set', 'Training Set'])\n",
    "plt.xlabel('Number of Heuristics')\n",
    "plt.ylabel('Accuracy and Coverage')\n",
    "#plt.ylim([0.55,1.0])\n",
    "plt.suptitle('Dataset: ' + dataset)"
   ]
  },
  {
   "cell_type": "code",
   "execution_count": 5,
   "metadata": {},
   "outputs": [
    {
     "name": "stdout",
     "output_type": "stream",
     "text": [
      "Program Synthesis Train Accuracy:  0.990077177508\n",
      "Program Synthesis Validation Accuracy:  1.0\n"
     ]
    }
   ],
   "source": [
    "print \"Program Synthesis Train Accuracy: \", np.max(training_accuracy[1:])\n",
    "print \"Program Synthesis Validation Accuracy: \", np.max(validation_accuracy[1:])"
   ]
  },
  {
   "cell_type": "code",
   "execution_count": 6,
   "metadata": {},
   "outputs": [],
   "source": [
    "from StringIO import StringIO\n",
    "import sklearn\n",
    "i = 0\n",
    "for dt in hg.hf:\n",
    "    out = StringIO()\n",
    "    DTree = dt.tree_\n",
    "    out = sklearn.tree.export_graphviz(dt, out_file='hf_' + str(i)+ '.dot')\n",
    "    i+=1"
   ]
  },
  {
   "cell_type": "code",
   "execution_count": 8,
   "metadata": {},
   "outputs": [
    {
     "data": {
      "text/plain": [
       "[(1, 7),\n",
       " (2, 3),\n",
       " (3, 4),\n",
       " (1, 7),\n",
       " (1, 7),\n",
       " (1, 7),\n",
       " (1, 7),\n",
       " (1, 7),\n",
       " (1, 7),\n",
       " (1, 7),\n",
       " (1, 7),\n",
       " (1, 7),\n",
       " (1, 7),\n",
       " (1, 7),\n",
       " (1, 7),\n",
       " (1, 7),\n",
       " (1, 7),\n",
       " (1, 7),\n",
       " (1, 7)]"
      ]
     },
     "execution_count": 8,
     "metadata": {},
     "output_type": "execute_result"
    }
   ],
   "source": [
    "hg.feat_combos"
   ]
  },
  {
   "cell_type": "markdown",
   "metadata": {},
   "source": [
    "## Calculate Baselines"
   ]
  },
  {
   "cell_type": "markdown",
   "metadata": {},
   "source": [
    "[**Decision Tree**](http://scikit-learn.org/stable/modules/generated/sklearn.tree.DecisionTreeClassifier.html#sklearn.tree.DecisionTreeClassifier)\n",
    "Depth bound is unbounded, using default settings. Could do a finer comparison if needed."
   ]
  },
  {
   "cell_type": "code",
   "execution_count": 19,
   "metadata": {},
   "outputs": [
    {
     "name": "stdout",
     "output_type": "stream",
     "text": [
      "Decision Tree Train Accuracy:  0.6275\n",
      "Decision Tree Validation Accuracy:  1.0\n"
     ]
    }
   ],
   "source": [
    "from baselines.models import DecisionTree\n",
    "dt = DecisionTree(train_primitive_matrix, val_primitive_matrix, \n",
    "                            val_ground, train_ground)\n",
    "dt.fit()\n",
    "va,ta, vc, tc = dt.evaluate()\n",
    "print \"Decision Tree Train Accuracy: \", ta\n",
    "print \"Decision Tree Validation Accuracy: \", va"
   ]
  },
  {
   "cell_type": "markdown",
   "metadata": {},
   "source": [
    "[**Boosting (AdaBoost)**](http://scikit-learn.org/stable/modules/generated/sklearn.ensemble.AdaBoostClassifier.html#sklearn.ensemble.AdaBoostClassifier) No bound of the number of estimators yet, could bound by number of primitives for \"fair\" comparison?"
   ]
  },
  {
   "cell_type": "code",
   "execution_count": 20,
   "metadata": {},
   "outputs": [
    {
     "name": "stdout",
     "output_type": "stream",
     "text": [
      "Boosting Train Accuracy:  0.6025\n",
      "Boosting Validation Accuracy:  0.99\n"
     ]
    }
   ],
   "source": [
    "from baselines.models import BoostClassifier\n",
    "bc = BoostClassifier(train_primitive_matrix, val_primitive_matrix, \n",
    "                            val_ground, train_ground)\n",
    "bc.fit()\n",
    "va,ta, vc, tc = bc.evaluate()\n",
    "print \"Boosting Train Accuracy: \", ta\n",
    "print \"Boosting Validation Accuracy: \", va"
   ]
  },
  {
   "cell_type": "markdown",
   "metadata": {},
   "source": [
    "[**LabelPropagation (Normal Semi-Supervised)**](http://scikit-learn.org/stable/modules/generated/sklearn.semi_supervised.LabelSpreading.html#sklearn.semi_supervised.LabelSpreading)\n",
    "Semi-supervised method that is robust to noise. Fits with both the labeled and unlabeled examples"
   ]
  },
  {
   "cell_type": "code",
   "execution_count": 21,
   "metadata": {},
   "outputs": [
    {
     "name": "stdout",
     "output_type": "stream",
     "text": [
      "SemiSupervised Train Accuracy:  0.65\n",
      "SemiSupervised Validation Accuracy:  0.845\n"
     ]
    }
   ],
   "source": [
    "from baselines.models import SemiSupervised\n",
    "ss = SemiSupervised(train_primitive_matrix, val_primitive_matrix, \n",
    "                            val_ground, train_ground)\n",
    "ss.fit()\n",
    "va,ta, vc, tc = ss.evaluate()\n",
    "print \"SemiSupervised Train Accuracy: \", ta\n",
    "print \"SemiSupervised Validation Accuracy: \", va"
   ]
  },
  {
   "cell_type": "markdown",
   "metadata": {},
   "source": [
    "[**CPLE (Pessimistic Likelihood Estimation for Semi-Supervised)**](https://github.com/tmadl/semisup-learn) Based on the [model](https://arxiv.org/abs/1503.00269) that guarantees that adding in the unlabeled data points will not worsen only training with labeled examples"
   ]
  },
  {
   "cell_type": "code",
   "execution_count": 22,
   "metadata": {},
   "outputs": [
    {
     "name": "stderr",
     "output_type": "stream",
     "text": [
      "/dfs/scratch0/paroma/anaconda2/envs/babble/lib/python2.7/site-packages/sklearn/linear_model/stochastic_gradient.py:84: FutureWarning: max_iter and tol parameters have been added in <class 'sklearn.linear_model.stochastic_gradient.SGDClassifier'> in 0.19. If both are left unset, they default to max_iter=5 and tol=None. If tol is not None, max_iter defaults to max_iter=1000. From 0.21, default max_iter will be 1000, and default tol will be 1e-3.\n",
      "  \"and default tol will be 1e-3.\" % type(self), FutureWarning)\n"
     ]
    },
    {
     "name": "stdout",
     "output_type": "stream",
     "text": [
      "n...nn converged.\n",
      "ContrastiveSemiSupervised Train Accuracy:  0.625\n",
      "ContrastiveSemiSupervised Validation Accuracy:  0.615\n"
     ]
    }
   ],
   "source": [
    "from baselines.models import ContrastiveSemiSupervised\n",
    "css = ContrastiveSemiSupervised(train_primitive_matrix, val_primitive_matrix, \n",
    "                            val_ground, train_ground)\n",
    "css.fit()\n",
    "va,ta, vc, tc = css.evaluate()\n",
    "print \"ContrastiveSemiSupervised Train Accuracy: \", ta\n",
    "print \"ContrastiveSemiSupervised Validation Accuracy: \", va"
   ]
  },
  {
   "cell_type": "code",
   "execution_count": null,
   "metadata": {},
   "outputs": [],
   "source": []
  }
 ],
 "metadata": {
  "kernelspec": {
   "display_name": "Python 2",
   "language": "python",
   "name": "python2"
  },
  "language_info": {
   "codemirror_mode": {
    "name": "ipython",
    "version": 2
   },
   "file_extension": ".py",
   "mimetype": "text/x-python",
   "name": "python",
   "nbconvert_exporter": "python",
   "pygments_lexer": "ipython2",
   "version": "2.7.13"
  }
 },
 "nbformat": 4,
 "nbformat_minor": 2
}
